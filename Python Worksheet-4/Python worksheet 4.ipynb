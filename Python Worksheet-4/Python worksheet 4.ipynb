{
 "cells": [
  {
   "cell_type": "markdown",
   "metadata": {},
   "source": [
    "## 14. Write a python program to represent a user entered number in expanded form. For eg: user_input = 12345\n",
    "Output = 1 10000 + 2 1000 + 3 100 + 4 10 + 5* 1"
   ]
  },
  {
   "cell_type": "code",
   "execution_count": 1,
   "metadata": {},
   "outputs": [],
   "source": [
    "def expand(num):\n",
    "    digits = str(num) # convert number to string\n",
    "    output = []\n",
    "    for i, digit in enumerate(digits):\n",
    "        output.append(\"(\" + digit + \"x10^\" + str(len(digits)-i-1) + \")\")\n",
    "    return \" + \".join(output)"
   ]
  },
  {
   "cell_type": "code",
   "execution_count": 2,
   "metadata": {},
   "outputs": [
    {
     "data": {
      "text/plain": [
       "'(5x10^5) + (6x10^4) + (5x10^3) + (2x10^2) + (5x10^1) + (6x10^0)'"
      ]
     },
     "execution_count": 2,
     "metadata": {},
     "output_type": "execute_result"
    }
   ],
   "source": [
    "expand(565256)"
   ]
  },
  {
   "cell_type": "markdown",
   "metadata": {},
   "source": [
    "## Q15.\tWrite a python program to determine whether the number entered by the user is an Armstrong number or not?"
   ]
  },
  {
   "cell_type": "code",
   "execution_count": 3,
   "metadata": {},
   "outputs": [
    {
     "name": "stdout",
     "output_type": "stream",
     "text": [
      "Enter The Number to check number is armstrong or not=>153\n",
      " Number is Armstrong=> 153\n"
     ]
    }
   ],
   "source": [
    "num= int(input(\"Enter The Number to check number is armstrong or not=>\"))\n",
    "\n",
    "temp=num\n",
    "add=0\n",
    "while(num>0):\n",
    "    am=num%10\n",
    "    add=add+(am*am*am)\n",
    "    num=num//10\n",
    "if add==temp:\n",
    "    print(\" Number is Armstrong=>\", add)\n",
    "else:\n",
    "    print(\"Number is not Armstrong =>\", temp)"
   ]
  },
  {
   "cell_type": "code",
   "execution_count": null,
   "metadata": {},
   "outputs": [],
   "source": []
  }
 ],
 "metadata": {
  "kernelspec": {
   "display_name": "Python 3",
   "language": "python",
   "name": "python3"
  },
  "language_info": {
   "codemirror_mode": {
    "name": "ipython",
    "version": 3
   },
   "file_extension": ".py",
   "mimetype": "text/x-python",
   "name": "python",
   "nbconvert_exporter": "python",
   "pygments_lexer": "ipython3",
   "version": "3.7.6"
  }
 },
 "nbformat": 4,
 "nbformat_minor": 4
}
