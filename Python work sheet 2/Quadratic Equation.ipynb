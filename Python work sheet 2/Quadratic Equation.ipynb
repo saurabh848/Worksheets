{
 "cells": [
  {
   "cell_type": "markdown",
   "metadata": {},
   "source": [
    "#### Write a python program to find the sum of first ‘n’ natural numbers without using any loop. Ask user to input the value of ‘n’."
   ]
  },
  {
   "cell_type": "code",
   "execution_count": 1,
   "metadata": {},
   "outputs": [],
   "source": [
    "import cmath as cm\n"
   ]
  },
  {
   "cell_type": "code",
   "execution_count": 2,
   "metadata": {},
   "outputs": [
    {
     "name": "stdout",
     "output_type": "stream",
     "text": [
      "Enter the value of a:\t10\n",
      "Enter the value of b:\t20\n",
      "Enter the value of c:\t40\n",
      "The  roots of the quadratic equation are=\t [(-1+1.7320508075688774j), (-1-1.7320508075688774j)]\n",
      "The roots are unreal \n",
      "TYPE YES TO RERUN OR ANY KEY TO EXIT:j\n"
     ]
    }
   ],
   "source": [
    "run='yes'\n",
    "while run=='yes':\n",
    "    a=float(input(\"Enter the value of a:\\t\"))\n",
    "    b=float(input(\"Enter the value of b:\\t\"))\n",
    "    c=float(input(\"Enter the value of c:\\t\")) \n",
    "    \n",
    "    if a>0:\n",
    "        d=((b**2)-(4*a*c))\n",
    "        \n",
    "        x1= ((-b)+(cm.sqrt(d)))/(2*a)    \n",
    "        x2= ((-b)-(cm.sqrt(d)))/(2*a) \n",
    "        \n",
    "        print(\"The  roots of the quadratic equation are=\\t\", list((x1,x2)))\n",
    "        if d<0:\n",
    "            print('The roots are unreal ')\n",
    "        elif d==0:\n",
    "             print('One is real and one is imaginary ')\n",
    "        elif d>0: \n",
    "            print('Roots are real')\n",
    "    else:\n",
    "        print(\"Invalid Selection\")\n",
    "    run=str(input(\"TYPE YES TO RERUN OR ANY KEY TO EXIT:\").casefold())\n",
    "exit()"
   ]
  },
  {
   "cell_type": "code",
   "execution_count": null,
   "metadata": {},
   "outputs": [],
   "source": []
  }
 ],
 "metadata": {
  "kernelspec": {
   "display_name": "Python 3",
   "language": "python",
   "name": "python3"
  },
  "language_info": {
   "codemirror_mode": {
    "name": "ipython",
    "version": 3
   },
   "file_extension": ".py",
   "mimetype": "text/x-python",
   "name": "python",
   "nbconvert_exporter": "python",
   "pygments_lexer": "ipython3",
   "version": "3.7.6"
  }
 },
 "nbformat": 4,
 "nbformat_minor": 4
}
