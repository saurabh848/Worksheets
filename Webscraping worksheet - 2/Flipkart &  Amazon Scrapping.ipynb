{
 "cells": [
  {
   "cell_type": "markdown",
   "metadata": {},
   "source": [
    "# Q14. Write a python program to scrap 10 images of Rayban Sunglasses from flipkart website and save them in a directory."
   ]
  },
  {
   "cell_type": "code",
   "execution_count": 1,
   "metadata": {},
   "outputs": [],
   "source": [
    "# import libreries \n",
    "from selenium import webdriver\n",
    "from selenium.webdriver.common.by import By\n",
    "from selenium.webdriver.support.ui import WebDriverWait as wdt\n",
    "from selenium.common.exceptions import StaleElementReferenceException as ser\n",
    "from selenium.webdriver.support import expected_conditions as ec\n",
    "import time\n",
    "import os,requests,pandas as pd\n",
    "import random"
   ]
  },
  {
   "cell_type": "code",
   "execution_count": 2,
   "metadata": {},
   "outputs": [],
   "source": [
    "driver=webdriver.Chrome(executable_path=r\"C:\\Users\\SAURABH UPADHYAY\\driver\\cd.exe\")\n",
    "url=\"https://www.flipkart.com/search?q=Rayban%20Sunglasses&otracker=search&otracker1=search&marketplace=FLIPKART&as-show=on&as=off\"\n",
    "driver.get(url)"
   ]
  },
  {
   "cell_type": "code",
   "execution_count": 3,
   "metadata": {},
   "outputs": [],
   "source": [
    "#Create directory\n",
    "def make_directory(dirname):\n",
    "    current_path=os.getcwd()\n",
    "    path=os.path.join(current_path,dirname)\n",
    "    if not os.path.exists(path):\n",
    "        os.makedirs(path)"
   ]
  },
  {
   "cell_type": "code",
   "execution_count": 4,
   "metadata": {},
   "outputs": [],
   "source": [
    "DIRNAME=\"Flipkart_Rayban_Sunglasses\"\n",
    "make_directory(dirname=DIRNAME)"
   ]
  },
  {
   "cell_type": "code",
   "execution_count": 5,
   "metadata": {},
   "outputs": [],
   "source": [
    "def scrap_images(driver,dirname):\n",
    "    image=driver.find_elements_by_xpath('//img[@class=\"_3togXc\"]')\n",
    "    url=[]\n",
    "    for i in image:\n",
    "        source=i.get_attribute('src')\n",
    "        url.append(source)\n",
    "    flip=[]\n",
    "    flip=url[0:10]\n",
    "    import shutil\n",
    "    import requests\n",
    "    for index ,link in enumerate(flip):\n",
    "            print(\"Downloading {0} of {0} image\".format(index+1,len(flip)))\n",
    "            response=requests.get(link)\n",
    "            with open('{0}/img_{0}{1}.jpeg'.format(dirname,index),\"wb\") as file:\n",
    "                file.write(response.content)\n",
    "\n",
    "           "
   ]
  },
  {
   "cell_type": "code",
   "execution_count": 6,
   "metadata": {},
   "outputs": [
    {
     "name": "stdout",
     "output_type": "stream",
     "text": [
      "Downloading 1 of 1 image\n",
      "Downloading 2 of 2 image\n",
      "Downloading 3 of 3 image\n",
      "Downloading 4 of 4 image\n",
      "Downloading 5 of 5 image\n",
      "Downloading 6 of 6 image\n",
      "Downloading 7 of 7 image\n",
      "Downloading 8 of 8 image\n",
      "Downloading 9 of 9 image\n",
      "Downloading 10 of 10 image\n",
      "Current page scraped [<selenium.webdriver.remote.webelement.WebElement (session=\"b4c5930b1238d49614091edb4a797edf\", element=\"f6efbe8e-dbee-4b9e-adfc-410b9eed3808\")>][<selenium.webdriver.remote.webelement.WebElement (session=\"b4c5930b1238d49614091edb4a797edf\", element=\"f6efbe8e-dbee-4b9e-adfc-410b9eed3808\")>] Done\n"
     ]
    }
   ],
   "source": [
    "try:\n",
    "    urls=scrap_images(driver=driver,dirname=DIRNAME)\n",
    "    page_value=driver.find_elements_by_xpath(\"//a[@class='_2Xp0TH fyt9Eu']\")\n",
    "    print(\"Current page scraped {0}{0} Done\".format(page_value))\n",
    "    button_type=driver.find_element_by_xpath(\"//div[@class='_2zg3yZ']//a[@class='_3fVaIS']//span\").get_attribute('innerHTML')\n",
    "    if button_type==\"Next\":\n",
    "        driver.find_element_by_xpath(\"//a[@class='_3fVaIS']\").click()\n",
    "        \n",
    "    else:\n",
    "        driver.find_element_by_xpath(\"//a[@class='_3fVaIS'][2]\").click()\n",
    "        new_page=driver.find_element_by_xpath(\"//a[@class='_2Xp0TH fyt9Eu']\").text\n",
    "\n",
    "        \n",
    "except StaleElementReferenceException as Exception:\n",
    "    print(\"We are facing unwanted errors:\\n\\n\")\n",
    "    error_page=driver.find_element_by_xpath(\"//a[@class='_2Xp0TH fyt9Eu']\").text\n",
    "    print(\"Exceptions faced at\".format(error_page))\n",
    "    value=driver.find_element_by_xpath(\"//a[@class='_2Xp0TH fyt9Eu']\")\n",
    "    link=value.get_attribute('href')\n",
    "    driver.get(link)\n",
    "        \n",
    "    urls=scrap_images(driver=driver)\n",
    "    page_value=driver.find_element_by_xpath(\"//a[@class='_2Xp0TH fyt9Eu']\").text\n",
    "    print(\"The current page scraped is {0}{1}\".format(page_value))\n"
   ]
  },
  {
   "cell_type": "code",
   "execution_count": 7,
   "metadata": {},
   "outputs": [],
   "source": [
    "driver.quit()"
   ]
  },
  {
   "cell_type": "markdown",
   "metadata": {},
   "source": [
    "# Q15. Write a program to scrap 20 mouses’ data which includes model name, price from www.amazon.in whose price is less than 500 and make a data frame with 2 columns “model_name”,” price” with the scraped data."
   ]
  },
  {
   "cell_type": "code",
   "execution_count": 8,
   "metadata": {},
   "outputs": [],
   "source": [
    "# import libreries \n",
    "from selenium import webdriver\n",
    "from selenium.webdriver.common.by import By\n",
    "from selenium.webdriver.support.ui import WebDriverWait as wdt\n",
    "from selenium.common.exceptions import StaleElementReferenceException\n",
    "from selenium.webdriver.support import expected_conditions as ec\n",
    "import time\n",
    "import os,requests,pandas as pd\n",
    "import random"
   ]
  },
  {
   "cell_type": "code",
   "execution_count": 9,
   "metadata": {},
   "outputs": [],
   "source": [
    "driver=webdriver.Chrome(executable_path=r\"C:\\Users\\SAURABH UPADHYAY\\driver\\cd.exe\")\n",
    "url=\"https://www.amazon.in/s?k=mouse&ref=nb_sb_noss_2\"\n",
    "driver.get(url)"
   ]
  },
  {
   "cell_type": "code",
   "execution_count": 10,
   "metadata": {},
   "outputs": [],
   "source": [
    "#Create directory\n",
    "def make_directory(dirname):\n",
    "    current_path=os.getcwd()\n",
    "    path=os.path.join(current_path,dirname)\n",
    "    if not os.path.exists(path):\n",
    "        os.makedirs(path)"
   ]
  },
  {
   "cell_type": "code",
   "execution_count": 11,
   "metadata": {},
   "outputs": [],
   "source": [
    "DIRNAME=\"Mouse_Amazon\"\n",
    "make_directory(dirname=DIRNAME)"
   ]
  },
  {
   "cell_type": "code",
   "execution_count": 12,
   "metadata": {},
   "outputs": [],
   "source": [
    "mouse={}\n",
    "\n",
    "mouse['mouse_model_name']=[] #for name of brand of the mouse\n",
    "mouse['mouse_price']=[] #for price of the mouse\n",
    "brands=[]\n",
    "prices=[]\n",
    "\n",
    "def scrap_mouse(driver):\n",
    "    \n",
    "    driver.execute_script(\"window.scrollTo(0,document.body.scrollHeight)\")\n",
    "    time.sleep(12)\n",
    "\n",
    "    \n",
    "    mouse_data=driver.find_elements_by_xpath(\"//a[@class='a-link-normal a-text-normal']/span\")\n",
    "    mouse_price=driver.find_elements_by_class_name('a-price-whole')\n",
    "    \n",
    "    brands=mouse_data[1:21]\n",
    "    prices=mouse_price[1:21]\n",
    "    \n",
    "    \n",
    "    for i in brands:\n",
    "        mouse['mouse_model_name'].append(i.text)\n",
    "    \n",
    "    \n",
    "    for j in prices:\n",
    "\n",
    "        mouse['mouse_price'].append(j.text)"
   ]
  },
  {
   "cell_type": "code",
   "execution_count": 13,
   "metadata": {},
   "outputs": [],
   "source": [
    "from selenium.common.exceptions import StaleElementReferenceException as ser\n",
    "\n",
    "time.sleep(10)\n",
    "wait=wdt(driver,14)\n",
    "\n",
    "wait.until(ec.presence_of_all_elements_located((By.ID,\"priceRefinements\"))) #price box\n",
    "price_box=driver.find_element_by_id(\"high-price\") #locating the max price box\n",
    "price_box.send_keys('499')  #entering the value of max price\n",
    "driver.find_element_by_id('a-autoid-1').click()  #selecting go button and clicking on it\n",
    "time.sleep(6)\n",
    "\n",
    "\n",
    "try:\n",
    "    scrap_mouse(driver=driver)                   \n",
    "        \n",
    "except ser:\n",
    "    print(\"WE ARE FACING UNANTED EXCEPTION.RESTARTING THE SERVICE..\\n\\n\")"
   ]
  },
  {
   "cell_type": "code",
   "execution_count": 14,
   "metadata": {},
   "outputs": [
    {
     "name": "stdout",
     "output_type": "stream",
     "text": [
      "models= ['Zinq Technologies ZQ233 Wired Mouse with 1000DPI for Laptop and Desktop (Black)', 'Quantum QHM232 3-Button 1000DPI Wired Optical Mouse (Black)', 'Logitech M90 Wired USB Mouse, 1000 DPI Optical Tracking, Ambidextrous PC/Mac/Laptop - Black', 'Lenovo 300 Wired USB Mouse, GX30M39704', 'Zinq Technologies ZQ233 Wired Mouse with 1000DPI for Laptop and Desktop (Black)', 'Dell Ms116 275-BBCB Optical Mouse', 'HP X1000 Wired Mouse (Black/Grey)', 'HP USB X500 Wired Optical Sensor Mouse 3 Buttons Windows 8 Supported', 'IT2M Designer Mouse Pad for Laptop/Computer (9.2 X 7.6 Inches, 12788)', 'iBall Style 63 Optical Mouse (Black)', 'Zebronics Zeb-Rise Wired USB Optical Mouse with 3 Buttons (Black)', 'Zebronics Zeb-Comfort USB Optical Mouse', 'Dell MS116 1000DPI USB Wired Optical Mouse', 'Ant Esports GM200W Gaming Mouse Wired, 6 Programmable Buttons, 3200 DPI Adjustable, with 7 Breathing Lights, Comfortable Grip Ergonomic Optical PC Computer Gaming Mouse, World of Warships Edition – Black', 'Xmate Rio Wired USB Gaming Mouse, Led Backlit, 6 Button, 7 Color Breathing Lights, High Ergonomic Mouse, Durable ABS Body for Computer PC & Laptop, 1.5M Nylon Braided Cable (Black)', 'Portronics Toad 12 Wireless 2.4G Optical Mouse with Ergonomic Design, USB Receiver for Notebook, Laptop, Computer, MacBook, Windows, MacOS, (Blue)', 'Zebronics Zeb-Comfort+ Wired Mouse', 'Foxin Wireless Optical Wheel Mouse with Nano Receiver FWM-9099 (Elite Blue)', 'Quantum QHM222 3-Button 1000DPI Wired Optical Mouse (Black)', 'Golden Feather Anti Skid Marvel Avengers Super Heroes Designer Mouse pad for laptops and Computers Gaming Mousepad (Spiderman 2)'] \n",
      "\n",
      "price= ['222', '299', '299', '199', '349', '349', '429', '196', '275', '135', '225', '405', '449', '399', '477', '225', '340', '299', '189', '229']\n"
     ]
    }
   ],
   "source": [
    "print(\"models=\",mouse['mouse_model_name'],'\\n\\nprice=',mouse['mouse_price'])"
   ]
  },
  {
   "cell_type": "code",
   "execution_count": 15,
   "metadata": {},
   "outputs": [
    {
     "name": "stdout",
     "output_type": "stream",
     "text": [
      "no of brands=  20 \n",
      "price of the brands 20\n"
     ]
    }
   ],
   "source": [
    "print(\"no of brands= \",len(mouse['mouse_model_name']),'\\nprice of the brands',len(mouse['mouse_price']))"
   ]
  },
  {
   "cell_type": "code",
   "execution_count": 16,
   "metadata": {},
   "outputs": [],
   "source": [
    "driver.quit()"
   ]
  },
  {
   "cell_type": "code",
   "execution_count": 17,
   "metadata": {},
   "outputs": [
    {
     "data": {
      "text/html": [
       "<div>\n",
       "<style scoped>\n",
       "    .dataframe tbody tr th:only-of-type {\n",
       "        vertical-align: middle;\n",
       "    }\n",
       "\n",
       "    .dataframe tbody tr th {\n",
       "        vertical-align: top;\n",
       "    }\n",
       "\n",
       "    .dataframe thead th {\n",
       "        text-align: right;\n",
       "    }\n",
       "</style>\n",
       "<table border=\"1\" class=\"dataframe\">\n",
       "  <thead>\n",
       "    <tr style=\"text-align: right;\">\n",
       "      <th></th>\n",
       "      <th>mouse_model_name</th>\n",
       "      <th>mouse_price</th>\n",
       "    </tr>\n",
       "  </thead>\n",
       "  <tbody>\n",
       "    <tr>\n",
       "      <th>0</th>\n",
       "      <td>Zinq Technologies ZQ233 Wired Mouse with 1000D...</td>\n",
       "      <td>222</td>\n",
       "    </tr>\n",
       "    <tr>\n",
       "      <th>1</th>\n",
       "      <td>Quantum QHM232 3-Button 1000DPI Wired Optical ...</td>\n",
       "      <td>299</td>\n",
       "    </tr>\n",
       "    <tr>\n",
       "      <th>2</th>\n",
       "      <td>Logitech M90 Wired USB Mouse, 1000 DPI Optical...</td>\n",
       "      <td>299</td>\n",
       "    </tr>\n",
       "    <tr>\n",
       "      <th>3</th>\n",
       "      <td>Lenovo 300 Wired USB Mouse, GX30M39704</td>\n",
       "      <td>199</td>\n",
       "    </tr>\n",
       "    <tr>\n",
       "      <th>4</th>\n",
       "      <td>Zinq Technologies ZQ233 Wired Mouse with 1000D...</td>\n",
       "      <td>349</td>\n",
       "    </tr>\n",
       "    <tr>\n",
       "      <th>5</th>\n",
       "      <td>Dell Ms116 275-BBCB Optical Mouse</td>\n",
       "      <td>349</td>\n",
       "    </tr>\n",
       "    <tr>\n",
       "      <th>6</th>\n",
       "      <td>HP X1000 Wired Mouse (Black/Grey)</td>\n",
       "      <td>429</td>\n",
       "    </tr>\n",
       "    <tr>\n",
       "      <th>7</th>\n",
       "      <td>HP USB X500 Wired Optical Sensor Mouse 3 Butto...</td>\n",
       "      <td>196</td>\n",
       "    </tr>\n",
       "    <tr>\n",
       "      <th>8</th>\n",
       "      <td>IT2M Designer Mouse Pad for Laptop/Computer (9...</td>\n",
       "      <td>275</td>\n",
       "    </tr>\n",
       "    <tr>\n",
       "      <th>9</th>\n",
       "      <td>iBall Style 63 Optical Mouse (Black)</td>\n",
       "      <td>135</td>\n",
       "    </tr>\n",
       "    <tr>\n",
       "      <th>10</th>\n",
       "      <td>Zebronics Zeb-Rise Wired USB Optical Mouse wit...</td>\n",
       "      <td>225</td>\n",
       "    </tr>\n",
       "    <tr>\n",
       "      <th>11</th>\n",
       "      <td>Zebronics Zeb-Comfort USB Optical Mouse</td>\n",
       "      <td>405</td>\n",
       "    </tr>\n",
       "    <tr>\n",
       "      <th>12</th>\n",
       "      <td>Dell MS116 1000DPI USB Wired Optical Mouse</td>\n",
       "      <td>449</td>\n",
       "    </tr>\n",
       "    <tr>\n",
       "      <th>13</th>\n",
       "      <td>Ant Esports GM200W Gaming Mouse Wired, 6 Progr...</td>\n",
       "      <td>399</td>\n",
       "    </tr>\n",
       "    <tr>\n",
       "      <th>14</th>\n",
       "      <td>Xmate Rio Wired USB Gaming Mouse, Led Backlit,...</td>\n",
       "      <td>477</td>\n",
       "    </tr>\n",
       "    <tr>\n",
       "      <th>15</th>\n",
       "      <td>Portronics Toad 12 Wireless 2.4G Optical Mouse...</td>\n",
       "      <td>225</td>\n",
       "    </tr>\n",
       "    <tr>\n",
       "      <th>16</th>\n",
       "      <td>Zebronics Zeb-Comfort+ Wired Mouse</td>\n",
       "      <td>340</td>\n",
       "    </tr>\n",
       "    <tr>\n",
       "      <th>17</th>\n",
       "      <td>Foxin Wireless Optical Wheel Mouse with Nano R...</td>\n",
       "      <td>299</td>\n",
       "    </tr>\n",
       "    <tr>\n",
       "      <th>18</th>\n",
       "      <td>Quantum QHM222 3-Button 1000DPI Wired Optical ...</td>\n",
       "      <td>189</td>\n",
       "    </tr>\n",
       "    <tr>\n",
       "      <th>19</th>\n",
       "      <td>Golden Feather Anti Skid Marvel Avengers Super...</td>\n",
       "      <td>229</td>\n",
       "    </tr>\n",
       "  </tbody>\n",
       "</table>\n",
       "</div>"
      ],
      "text/plain": [
       "                                     mouse_model_name mouse_price\n",
       "0   Zinq Technologies ZQ233 Wired Mouse with 1000D...         222\n",
       "1   Quantum QHM232 3-Button 1000DPI Wired Optical ...         299\n",
       "2   Logitech M90 Wired USB Mouse, 1000 DPI Optical...         299\n",
       "3              Lenovo 300 Wired USB Mouse, GX30M39704         199\n",
       "4   Zinq Technologies ZQ233 Wired Mouse with 1000D...         349\n",
       "5                   Dell Ms116 275-BBCB Optical Mouse         349\n",
       "6                   HP X1000 Wired Mouse (Black/Grey)         429\n",
       "7   HP USB X500 Wired Optical Sensor Mouse 3 Butto...         196\n",
       "8   IT2M Designer Mouse Pad for Laptop/Computer (9...         275\n",
       "9                iBall Style 63 Optical Mouse (Black)         135\n",
       "10  Zebronics Zeb-Rise Wired USB Optical Mouse wit...         225\n",
       "11            Zebronics Zeb-Comfort USB Optical Mouse         405\n",
       "12         Dell MS116 1000DPI USB Wired Optical Mouse         449\n",
       "13  Ant Esports GM200W Gaming Mouse Wired, 6 Progr...         399\n",
       "14  Xmate Rio Wired USB Gaming Mouse, Led Backlit,...         477\n",
       "15  Portronics Toad 12 Wireless 2.4G Optical Mouse...         225\n",
       "16                 Zebronics Zeb-Comfort+ Wired Mouse         340\n",
       "17  Foxin Wireless Optical Wheel Mouse with Nano R...         299\n",
       "18  Quantum QHM222 3-Button 1000DPI Wired Optical ...         189\n",
       "19  Golden Feather Anti Skid Marvel Avengers Super...         229"
      ]
     },
     "execution_count": 17,
     "metadata": {},
     "output_type": "execute_result"
    }
   ],
   "source": [
    "df=pd.DataFrame(mouse)\n",
    "df"
   ]
  },
  {
   "cell_type": "code",
   "execution_count": 18,
   "metadata": {},
   "outputs": [
    {
     "data": {
      "text/plain": [
       "'477'"
      ]
     },
     "execution_count": 18,
     "metadata": {},
     "output_type": "execute_result"
    }
   ],
   "source": [
    "df['mouse_price'].max()"
   ]
  },
  {
   "cell_type": "code",
   "execution_count": null,
   "metadata": {},
   "outputs": [],
   "source": []
  }
 ],
 "metadata": {
  "kernelspec": {
   "display_name": "Python 3",
   "language": "python",
   "name": "python3"
  },
  "language_info": {
   "codemirror_mode": {
    "name": "ipython",
    "version": 3
   },
   "file_extension": ".py",
   "mimetype": "text/x-python",
   "name": "python",
   "nbconvert_exporter": "python",
   "pygments_lexer": "ipython3",
   "version": "3.7.6"
  }
 },
 "nbformat": 4,
 "nbformat_minor": 4
}
