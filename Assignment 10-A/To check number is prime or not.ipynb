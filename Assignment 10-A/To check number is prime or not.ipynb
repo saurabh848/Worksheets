{
 "cells": [
  {
   "cell_type": "code",
   "execution_count": 1,
   "metadata": {},
   "outputs": [
    {
     "name": "stdout",
     "output_type": "stream",
     "text": [
      "Enter the number for checking number is prime or not-> 11\n",
      "11 -> Number is prime number\n"
     ]
    }
   ],
   "source": [
    "num=int(input(\"Enter the number for checking number is prime or not-> \"))\n",
    "if(num>1):\n",
    "    for i in range(2,num):\n",
    "        if (num%i)==0:\n",
    "            print(\" Entered Number is not prime while its composite number\")\n",
    "            break\n",
    "    else:\n",
    "        print(num,\"-> Number is prime number\")\n",
    "            \n",
    "else:\n",
    "    print(\"Entered Number is not prime while its composite number\")\n",
    "    \n",
    "            "
   ]
  },
  {
   "cell_type": "code",
   "execution_count": null,
   "metadata": {},
   "outputs": [],
   "source": []
  },
  {
   "cell_type": "code",
   "execution_count": null,
   "metadata": {},
   "outputs": [],
   "source": []
  }
 ],
 "metadata": {
  "kernelspec": {
   "display_name": "Python 3",
   "language": "python",
   "name": "python3"
  },
  "language_info": {
   "codemirror_mode": {
    "name": "ipython",
    "version": 3
   },
   "file_extension": ".py",
   "mimetype": "text/x-python",
   "name": "python",
   "nbconvert_exporter": "python",
   "pygments_lexer": "ipython3",
   "version": "3.7.6"
  }
 },
 "nbformat": 4,
 "nbformat_minor": 4
}
