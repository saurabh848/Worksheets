{
 "cells": [
  {
   "cell_type": "code",
   "execution_count": 1,
   "metadata": {},
   "outputs": [],
   "source": [
    "from selenium import webdriver\n",
    "from selenium.webdriver.support.ui import WebDriverWait as wdt\n",
    "from selenium.webdriver.support import expected_conditions as ec\n",
    "from selenium.common.exceptions import StaleElementReferenceException as ser\n",
    "from selenium.webdriver.common.by import By\n",
    "from selenium.webdriver.common.keys import Keys\n",
    "import os\n",
    "import time\n",
    "import pandas as pd"
   ]
  },
  {
   "cell_type": "markdown",
   "metadata": {},
   "source": [
    "# Pioneer"
   ]
  },
  {
   "cell_type": "code",
   "execution_count": 2,
   "metadata": {},
   "outputs": [],
   "source": [
    "chrome_options = webdriver.ChromeOptions()\n",
    "prefs = {\"profile.default_content_setting_values.notifications\" : 2}\n",
    "chrome_options.add_experimental_option(\"prefs\",prefs)\n",
    "\n",
    "driver=webdriver.Chrome(executable_path=r\"C:\\Users\\SAURABH UPADHYAY\\driver\\cd.exe\",options=chrome_options)"
   ]
  },
  {
   "cell_type": "code",
   "execution_count": 3,
   "metadata": {},
   "outputs": [],
   "source": [
    "#Scrapping news\n",
    "\n",
    "pioneer={}\n",
    "pioneer['head']=[]\n",
    "pioneer['desc']=[]\n",
    "pioneer['topic']=[]\n",
    "\n",
    "link=[]\n",
    "temp=[]\n",
    "\n",
    "def scrapper(driver,page,topics):\n",
    "        \n",
    "    driver.execute_script(\"window.scrollTo(0,document.body.scrollHeight)\")\n",
    "    time.sleep(12)\n",
    "\n",
    "    links=driver.find_elements_by_xpath(\"//div[@class='innerNewsList']//h2/a\")\n",
    "    \n",
    "    \n",
    "    for i in links:\n",
    "        temp.append(i.get_attribute('href'))\n",
    "    \n",
    "    for li in temp:\n",
    "        if li not in link:\n",
    "            link.append(li)   #getting unique/unduplicated links of news\n",
    "            pioneer['topic'].append(topics)"
   ]
  },
  {
   "cell_type": "code",
   "execution_count": 4,
   "metadata": {},
   "outputs": [
    {
     "name": "stdout",
     "output_type": "stream",
     "text": [
      "TOTAL PAGES TO BE SCRAPPED=  18\n",
      "URL=  https://www.dailypioneer.com/india/page/1\n",
      "Extraction of https://www.dailypioneer.com/india/page/1 completed. \n",
      "Time Elapsed 5.92 minute\n",
      "\n",
      "URL=  https://www.dailypioneer.com/business/page/1\n",
      "Extraction of https://www.dailypioneer.com/business/page/1 completed. \n",
      "Time Elapsed 5.91 minute\n",
      "\n",
      "URL=  https://www.dailypioneer.com/world/page/1\n",
      "Extraction of https://www.dailypioneer.com/world/page/1 completed. \n",
      "Time Elapsed 5.91 minute\n",
      "\n",
      "URL=  https://www.dailypioneer.com/sports/page/1\n",
      "Extraction of https://www.dailypioneer.com/sports/page/1 completed. \n",
      "Time Elapsed 5.91 minute\n",
      "\n",
      "URL=  https://www.dailypioneer.com/state-editions/page/1\n",
      "Extraction of https://www.dailypioneer.com/state-editions/page/1 completed. \n",
      "Time Elapsed 5.91 minute\n",
      "\n"
     ]
    }
   ],
   "source": [
    "#getting topics to scrap\n",
    "start=1\n",
    "end=18\n",
    "#we will scrap from 21st page to 45th page\n",
    "href=['india',\"business\",\"world\",\"sports\",'state-editions']\n",
    "#links of fields to scrap\n",
    "\n",
    "print('TOTAL PAGES TO BE SCRAPPED= ',end)\n",
    "\n",
    "for x in href:\n",
    "    start_time=time.time()\n",
    "    url='https://www.dailypioneer.com/'+x+'/page/1'  #url of first page\n",
    "    driver.get(url)\n",
    "    time.sleep(10)\n",
    "    print(\"URL= \",url)\n",
    "    time.sleep(5)\n",
    "    for y in range (start,end):     \n",
    "        \n",
    "        try:\n",
    "            scrapper(driver=driver,page=y,topics=x)\n",
    "            next_page='https://www.dailypioneer.com/'+x+'/page/'+str(y+1)\n",
    "            driver.get(next_page)\n",
    "            time.sleep(7)\n",
    "            \n",
    "        except ser:\n",
    "            print('error while scrapping')\n",
    "            error_page='https://www.dailypioneer.com/'+x+'/page/'+str(y+1)\n",
    "            error_url= error_page\n",
    "            driver.get(error_url)\n",
    "            scrapper(driver=driver,page=x)\n",
    "            next_page='https://www.dailypioneer.com/'+x+'/page/'+str(y+1)\n",
    "            driver.get(next_page)\n",
    "            time.sleep(5)\n",
    "    end_time=time.time()\n",
    "    print(\"Extraction of\", url,'completed. \\nTime Elapsed',round((end_time-start_time)/60,2),'minute\\n')\n"
   ]
  },
  {
   "cell_type": "code",
   "execution_count": 5,
   "metadata": {},
   "outputs": [
    {
     "name": "stdout",
     "output_type": "stream",
     "text": [
      "no of links: 595 no of topic 595\n"
     ]
    }
   ],
   "source": [
    "print('no of links:',len(link),'no of topic',len(pioneer['topic']))"
   ]
  },
  {
   "cell_type": "code",
   "execution_count": 6,
   "metadata": {},
   "outputs": [
    {
     "name": "stdout",
     "output_type": "stream",
     "text": [
      "Task Completed\n"
     ]
    }
   ],
   "source": [
    "for i in link:\n",
    "    driver.get(i)\n",
    "    time.sleep(5)\n",
    "\n",
    "    para= driver.find_elements_by_tag_name('p')\n",
    "    \n",
    "    header= driver.find_elements_by_xpath(\"//div[@class='col-12']/h2\")\n",
    "    \n",
    "    article=''\n",
    "    for x in para:\n",
    "        article= article+ ' '+x.text\n",
    "    pioneer['desc'].append(article)\n",
    "    \n",
    "    for y in header:\n",
    "        pioneer['head'].append(y.text)\n",
    "print('Task Completed')"
   ]
  },
  {
   "cell_type": "code",
   "execution_count": 7,
   "metadata": {},
   "outputs": [
    {
     "name": "stdout",
     "output_type": "stream",
     "text": [
      "Head: 595 No of description 595\n"
     ]
    }
   ],
   "source": [
    "print('Head:',len( pioneer['head']),'No of description',len(pioneer['desc']))"
   ]
  },
  {
   "cell_type": "code",
   "execution_count": 8,
   "metadata": {},
   "outputs": [
    {
     "data": {
      "text/html": [
       "<div>\n",
       "<style scoped>\n",
       "    .dataframe tbody tr th:only-of-type {\n",
       "        vertical-align: middle;\n",
       "    }\n",
       "\n",
       "    .dataframe tbody tr th {\n",
       "        vertical-align: top;\n",
       "    }\n",
       "\n",
       "    .dataframe thead th {\n",
       "        text-align: right;\n",
       "    }\n",
       "</style>\n",
       "<table border=\"1\" class=\"dataframe\">\n",
       "  <thead>\n",
       "    <tr style=\"text-align: right;\">\n",
       "      <th></th>\n",
       "      <th>head</th>\n",
       "      <th>desc</th>\n",
       "      <th>topic</th>\n",
       "    </tr>\n",
       "  </thead>\n",
       "  <tbody>\n",
       "    <tr>\n",
       "      <th>0</th>\n",
       "      <td>Ministry allows airlines to set ‘baggage limit’</td>\n",
       "      <td>The Ministry of Civil Aviation (MoCA) has am...</td>\n",
       "      <td>india</td>\n",
       "    </tr>\n",
       "    <tr>\n",
       "      <th>1</th>\n",
       "      <td>SAARC must defeat terrorism: Jaishankar</td>\n",
       "      <td>Listing cross-border terrorism as one of the...</td>\n",
       "      <td>india</td>\n",
       "    </tr>\n",
       "    <tr>\n",
       "      <th>2</th>\n",
       "      <td>BJP’s leader accuses party official of harassment</td>\n",
       "      <td>The lady leader of BJP's Minority Front has ...</td>\n",
       "      <td>india</td>\n",
       "    </tr>\n",
       "    <tr>\n",
       "      <th>3</th>\n",
       "      <td>AMU reservation issue raised in Parliament again</td>\n",
       "      <td>Once again MP Satish Kumar Gautam raised the...</td>\n",
       "      <td>india</td>\n",
       "    </tr>\n",
       "    <tr>\n",
       "      <th>4</th>\n",
       "      <td>Drive to remove encroachment in Agra to clean ...</td>\n",
       "      <td>Nagar Nigam Aligarh started a campaign to re...</td>\n",
       "      <td>india</td>\n",
       "    </tr>\n",
       "    <tr>\n",
       "      <th>...</th>\n",
       "      <td>...</td>\n",
       "      <td>...</td>\n",
       "      <td>...</td>\n",
       "    </tr>\n",
       "    <tr>\n",
       "      <th>590</th>\n",
       "      <td>CM announces Rs 10K per annum for farmers</td>\n",
       "      <td>In a bid to woo farmers ahead of by-polls in...</td>\n",
       "      <td>state-editions</td>\n",
       "    </tr>\n",
       "    <tr>\n",
       "      <th>591</th>\n",
       "      <td>10 ‘trafficked' child labourers rescued in city</td>\n",
       "      <td>The Delhi Commission for Protection of Child...</td>\n",
       "      <td>state-editions</td>\n",
       "    </tr>\n",
       "    <tr>\n",
       "      <th>592</th>\n",
       "      <td>Signboard of road named after Swami Vivekanand...</td>\n",
       "      <td>The Akhil Bharatiya Vidhyarthi Parishad (ABV...</td>\n",
       "      <td>state-editions</td>\n",
       "    </tr>\n",
       "    <tr>\n",
       "      <th>593</th>\n",
       "      <td>Some properties wrongly sealed by SC’s Monitor...</td>\n",
       "      <td>Accusing the Supreme Court Appointed Monitor...</td>\n",
       "      <td>state-editions</td>\n",
       "    </tr>\n",
       "    <tr>\n",
       "      <th>594</th>\n",
       "      <td>28-yr-old car mechanic driving Mercedes crashe...</td>\n",
       "      <td>A 28-year-old car mechanic, who was driving ...</td>\n",
       "      <td>state-editions</td>\n",
       "    </tr>\n",
       "  </tbody>\n",
       "</table>\n",
       "<p>595 rows × 3 columns</p>\n",
       "</div>"
      ],
      "text/plain": [
       "                                                  head  \\\n",
       "0      Ministry allows airlines to set ‘baggage limit’   \n",
       "1              SAARC must defeat terrorism: Jaishankar   \n",
       "2    BJP’s leader accuses party official of harassment   \n",
       "3     AMU reservation issue raised in Parliament again   \n",
       "4    Drive to remove encroachment in Agra to clean ...   \n",
       "..                                                 ...   \n",
       "590          CM announces Rs 10K per annum for farmers   \n",
       "591    10 ‘trafficked' child labourers rescued in city   \n",
       "592  Signboard of road named after Swami Vivekanand...   \n",
       "593  Some properties wrongly sealed by SC’s Monitor...   \n",
       "594  28-yr-old car mechanic driving Mercedes crashe...   \n",
       "\n",
       "                                                  desc           topic  \n",
       "0      The Ministry of Civil Aviation (MoCA) has am...           india  \n",
       "1      Listing cross-border terrorism as one of the...           india  \n",
       "2      The lady leader of BJP's Minority Front has ...           india  \n",
       "3      Once again MP Satish Kumar Gautam raised the...           india  \n",
       "4      Nagar Nigam Aligarh started a campaign to re...           india  \n",
       "..                                                 ...             ...  \n",
       "590    In a bid to woo farmers ahead of by-polls in...  state-editions  \n",
       "591    The Delhi Commission for Protection of Child...  state-editions  \n",
       "592    The Akhil Bharatiya Vidhyarthi Parishad (ABV...  state-editions  \n",
       "593    Accusing the Supreme Court Appointed Monitor...  state-editions  \n",
       "594    A 28-year-old car mechanic, who was driving ...  state-editions  \n",
       "\n",
       "[595 rows x 3 columns]"
      ]
     },
     "execution_count": 8,
     "metadata": {},
     "output_type": "execute_result"
    }
   ],
   "source": [
    "df1=pd.DataFrame(pioneer)\n",
    "df1"
   ]
  },
  {
   "cell_type": "code",
   "execution_count": 9,
   "metadata": {},
   "outputs": [],
   "source": [
    "driver.quit()"
   ]
  },
  {
   "cell_type": "markdown",
   "metadata": {},
   "source": [
    "# TELEGRAPH"
   ]
  },
  {
   "cell_type": "code",
   "execution_count": 11,
   "metadata": {},
   "outputs": [],
   "source": [
    "#scrapping news\n",
    "tele={}\n",
    "tele['head']=[]\n",
    "tele['desc']=[]\n",
    "tele['topic']=[]\n",
    "link=[]\n",
    "temp=[]\n",
    "\n",
    "def scrapper(driver,page,top):\n",
    "    driver.execute_script(\"window.scrollTo(0,document.body.scrollHeight)\")\n",
    "    time.sleep(12)\n",
    "\n",
    "    links=driver.find_elements_by_xpath(\"//h2[@class='fs-22 noto-regular']//a\")\n",
    "\n",
    "    \n",
    "    \n",
    "    \n",
    "    for i in links:\n",
    "        temp.append(i.get_attribute('href'))\n",
    "    \n",
    "    for li in temp:\n",
    "        if li not in link:\n",
    "            link.append(li)   #getting unique/unduplicated links of news\n",
    "            tele['topic'].append(top)"
   ]
  },
  {
   "cell_type": "code",
   "execution_count": 12,
   "metadata": {},
   "outputs": [],
   "source": [
    "chrome_options = webdriver.ChromeOptions()\n",
    "prefs = {\"profile.default_content_setting_values.notifications\" : 2}\n",
    "chrome_options.add_experimental_option(\"prefs\",prefs)\n",
    "#this news paper is generating warning so to disable it........\n",
    "\n",
    "driver=webdriver.Chrome(executable_path=r\"C:\\Users\\SAURABH UPADHYAY\\driver\\cd.exe\")"
   ]
  },
  {
   "cell_type": "code",
   "execution_count": 13,
   "metadata": {},
   "outputs": [
    {
     "name": "stdout",
     "output_type": "stream",
     "text": [
      "URL=  https://www.telegraphindia.com/states\n",
      "extraction completed.Time elasped= 3.67 minutes.\n",
      "\n",
      "URL=  https://www.telegraphindia.com/world\n",
      "extraction completed.Time elasped= 3.62 minutes.\n",
      "\n",
      "URL=  https://www.telegraphindia.com/business\n",
      "extraction completed.Time elasped= 3.6 minutes.\n",
      "\n",
      "URL=  https://www.telegraphindia.com/sports\n",
      "extraction completed.Time elasped= 3.7 minutes.\n",
      "\n"
     ]
    }
   ],
   "source": [
    "#getting topics to scrap\n",
    "start=30\n",
    "end=40\n",
    "href=[\"states\",\"world\",\"business\",\"sports\"]\n",
    "\n",
    "\n",
    "for x in href:\n",
    "    start_time=time.time()\n",
    "    url=\"https://www.telegraphindia.com/\"+x\n",
    "    driver.get(url)\n",
    "    time.sleep(10)\n",
    "    current=driver.current_url\n",
    "    print(\"URL= \",current)\n",
    "    time.sleep(5)\n",
    "    for y in range (start,end):     \n",
    "        \n",
    "        try:\n",
    "            scrapper(driver=driver,page=y,top=x)\n",
    "            next_page=\"https://www.telegraphindia.com/\"+x+'/page-'+str(y+1)\n",
    "            driver.get(next_page)\n",
    "            time.sleep(7)\n",
    "            \n",
    "        except ser:\n",
    "            print('error while scrapping')\n",
    "            error_page=\"https://www.telegraphindia.com/\"+x+'/page-'+str(y+1)\n",
    "            error_url= error_page\n",
    "            driver.get(error_url)\n",
    "            scrapper(driver=driver,page=x)\n",
    "            next_page=\"https://www.telegraphindia.com/\"+x+'/page-'+str(y+1)\n",
    "            driver.get(next_page)\n",
    "            time.sleep(5)\n",
    "        \n",
    "    end_time=time.time()\n",
    "    print('extraction completed.Time elasped=',round((end_time-start_time)/60,2),'minutes.\\n')\n"
   ]
  },
  {
   "cell_type": "code",
   "execution_count": 14,
   "metadata": {},
   "outputs": [
    {
     "name": "stdout",
     "output_type": "stream",
     "text": [
      "topic== 400 \n",
      "link== 400\n"
     ]
    }
   ],
   "source": [
    "print(\"topic==\",len(tele['topic']),'\\nlink==',len(link))"
   ]
  },
  {
   "cell_type": "code",
   "execution_count": 15,
   "metadata": {},
   "outputs": [
    {
     "name": "stdout",
     "output_type": "stream",
     "text": [
      "Task Completed\n"
     ]
    }
   ],
   "source": [
    "#getting the news\n",
    "\n",
    "for i in link:\n",
    "    driver.get(i)\n",
    "    time.sleep(7)\n",
    "    element1= driver.find_elements_by_xpath(\"//div[@class='fs-17 pt-2 noto-regular']\")\n",
    "    \n",
    "    element2= driver.find_elements_by_tag_name('h1')\n",
    "    \n",
    "    article=''\n",
    "    \n",
    "    for x in element1:\n",
    "        article = article + ' ' +  x.text\n",
    "    tele['desc'].append(article)\n",
    "        \n",
    "    for y in element2:\n",
    "        tele['head'].append(y.text)\n",
    "print('Task Completed')\n"
   ]
  },
  {
   "cell_type": "code",
   "execution_count": 16,
   "metadata": {},
   "outputs": [
    {
     "name": "stdout",
     "output_type": "stream",
     "text": [
      "head 400 description 400\n"
     ]
    }
   ],
   "source": [
    "print('head',len(tele['head']),'description',len(tele['desc']))"
   ]
  },
  {
   "cell_type": "code",
   "execution_count": 17,
   "metadata": {},
   "outputs": [],
   "source": [
    "df2=pd.DataFrame(tele)"
   ]
  },
  {
   "cell_type": "code",
   "execution_count": 18,
   "metadata": {},
   "outputs": [
    {
     "data": {
      "text/html": [
       "<div>\n",
       "<style scoped>\n",
       "    .dataframe tbody tr th:only-of-type {\n",
       "        vertical-align: middle;\n",
       "    }\n",
       "\n",
       "    .dataframe tbody tr th {\n",
       "        vertical-align: top;\n",
       "    }\n",
       "\n",
       "    .dataframe thead th {\n",
       "        text-align: right;\n",
       "    }\n",
       "</style>\n",
       "<table border=\"1\" class=\"dataframe\">\n",
       "  <thead>\n",
       "    <tr style=\"text-align: right;\">\n",
       "      <th></th>\n",
       "      <th>head</th>\n",
       "      <th>desc</th>\n",
       "      <th>topic</th>\n",
       "    </tr>\n",
       "  </thead>\n",
       "  <tbody>\n",
       "    <tr>\n",
       "      <th>0</th>\n",
       "      <td>Ministry allows airlines to set ‘baggage limit’</td>\n",
       "      <td>The Ministry of Civil Aviation (MoCA) has am...</td>\n",
       "      <td>india</td>\n",
       "    </tr>\n",
       "    <tr>\n",
       "      <th>1</th>\n",
       "      <td>SAARC must defeat terrorism: Jaishankar</td>\n",
       "      <td>Listing cross-border terrorism as one of the...</td>\n",
       "      <td>india</td>\n",
       "    </tr>\n",
       "    <tr>\n",
       "      <th>2</th>\n",
       "      <td>BJP’s leader accuses party official of harassment</td>\n",
       "      <td>The lady leader of BJP's Minority Front has ...</td>\n",
       "      <td>india</td>\n",
       "    </tr>\n",
       "    <tr>\n",
       "      <th>3</th>\n",
       "      <td>AMU reservation issue raised in Parliament again</td>\n",
       "      <td>Once again MP Satish Kumar Gautam raised the...</td>\n",
       "      <td>india</td>\n",
       "    </tr>\n",
       "    <tr>\n",
       "      <th>4</th>\n",
       "      <td>Drive to remove encroachment in Agra to clean ...</td>\n",
       "      <td>Nagar Nigam Aligarh started a campaign to re...</td>\n",
       "      <td>india</td>\n",
       "    </tr>\n",
       "    <tr>\n",
       "      <th>5</th>\n",
       "      <td>Madras High Court quashes Palani Temple's move...</td>\n",
       "      <td>The Madurai Bench of the Madras High Court o...</td>\n",
       "      <td>india</td>\n",
       "    </tr>\n",
       "    <tr>\n",
       "      <th>6</th>\n",
       "      <td>Aligarh lock company faces copyright charges</td>\n",
       "      <td>A Talanagri-based company has been accused o...</td>\n",
       "      <td>india</td>\n",
       "    </tr>\n",
       "    <tr>\n",
       "      <th>7</th>\n",
       "      <td>6,324 new cases in Kerala</td>\n",
       "      <td>In yet another sign that the situation arisi...</td>\n",
       "      <td>india</td>\n",
       "    </tr>\n",
       "    <tr>\n",
       "      <th>8</th>\n",
       "      <td>CRPF officer martyred in Budgam terror attack</td>\n",
       "      <td>A senior officer of the Central Reserve poli...</td>\n",
       "      <td>india</td>\n",
       "    </tr>\n",
       "  </tbody>\n",
       "</table>\n",
       "</div>"
      ],
      "text/plain": [
       "                                                head  \\\n",
       "0    Ministry allows airlines to set ‘baggage limit’   \n",
       "1            SAARC must defeat terrorism: Jaishankar   \n",
       "2  BJP’s leader accuses party official of harassment   \n",
       "3   AMU reservation issue raised in Parliament again   \n",
       "4  Drive to remove encroachment in Agra to clean ...   \n",
       "5  Madras High Court quashes Palani Temple's move...   \n",
       "6       Aligarh lock company faces copyright charges   \n",
       "7                          6,324 new cases in Kerala   \n",
       "8      CRPF officer martyred in Budgam terror attack   \n",
       "\n",
       "                                                desc  topic  \n",
       "0    The Ministry of Civil Aviation (MoCA) has am...  india  \n",
       "1    Listing cross-border terrorism as one of the...  india  \n",
       "2    The lady leader of BJP's Minority Front has ...  india  \n",
       "3    Once again MP Satish Kumar Gautam raised the...  india  \n",
       "4    Nagar Nigam Aligarh started a campaign to re...  india  \n",
       "5    The Madurai Bench of the Madras High Court o...  india  \n",
       "6    A Talanagri-based company has been accused o...  india  \n",
       "7    In yet another sign that the situation arisi...  india  \n",
       "8    A senior officer of the Central Reserve poli...  india  "
      ]
     },
     "execution_count": 18,
     "metadata": {},
     "output_type": "execute_result"
    }
   ],
   "source": [
    "test_news=df1.append(df2,ignore_index=True)\n",
    "test_news.head(9)"
   ]
  },
  {
   "cell_type": "code",
   "execution_count": 21,
   "metadata": {},
   "outputs": [],
   "source": [
    "#SAVING DATAFRAME TO CSV\n",
    "test_news.to_csv(r'news_scrapping/news_test1.csv',index=False)"
   ]
  },
  {
   "cell_type": "code",
   "execution_count": null,
   "metadata": {},
   "outputs": [],
   "source": []
  }
 ],
 "metadata": {
  "kernelspec": {
   "display_name": "Python 3",
   "language": "python",
   "name": "python3"
  },
  "language_info": {
   "codemirror_mode": {
    "name": "ipython",
    "version": 3
   },
   "file_extension": ".py",
   "mimetype": "text/x-python",
   "name": "python",
   "nbconvert_exporter": "python",
   "pygments_lexer": "ipython3",
   "version": "3.7.6"
  }
 },
 "nbformat": 4,
 "nbformat_minor": 4
}
