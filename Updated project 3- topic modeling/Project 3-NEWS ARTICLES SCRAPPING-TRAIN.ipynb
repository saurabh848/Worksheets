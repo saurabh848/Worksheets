{
 "cells": [
  {
   "cell_type": "code",
   "execution_count": 6,
   "metadata": {},
   "outputs": [],
   "source": [
    "from selenium import webdriver\n",
    "from selenium.webdriver.support.ui import WebDriverWait as wdt\n",
    "from selenium.webdriver.support import expected_conditions as ec\n",
    "from selenium.common.exceptions import StaleElementReferenceException as ser\n",
    "from selenium.webdriver.common.by import By\n",
    "from selenium.webdriver.common.keys import Keys\n",
    "import os\n",
    "import time\n",
    "import pandas as pd"
   ]
  },
  {
   "cell_type": "code",
   "execution_count": 7,
   "metadata": {},
   "outputs": [],
   "source": [
    "#scrapping news\n",
    "reuter={}\n",
    "reuter['head']=[] #for heading\n",
    "reuter['desc']=[] #for total news\n",
    "reuter['topic']=[]  #news kind\n",
    "\n",
    "link=[]\n",
    "temp=[]\n",
    "def scrapper(driver,page,top):\n",
    "       \n",
    "    driver.execute_script(\"window.scrollTo(0,document.body.scrollHeight)\")\n",
    "    time.sleep(12)\n",
    "\n",
    "   \n",
    "            \n",
    "    links=driver.find_elements_by_xpath(\"//article[@class='story ']//a\")\n",
    "    \n",
    "  \n",
    "    #link to news\n",
    "    for i in links:\n",
    "        temp.append(i.get_attribute('href'))\n",
    "    \n",
    "    for li in temp:\n",
    "        if li not in link:\n",
    "            link.append(li)   #getting unique/unduplicated links of news\n",
    "            reuter['topic'].append(top)"
   ]
  },
  {
   "cell_type": "code",
   "execution_count": 8,
   "metadata": {},
   "outputs": [],
   "source": [
    "chrome_options = webdriver.ChromeOptions()\n",
    "prefs = {\"profile.default_content_setting_values.notifications\" : 2}\n",
    "chrome_options.add_experimental_option(\"prefs\",prefs)\n",
    "#this news paper is generating warning so to disable it........\n",
    "\n",
    "driver=webdriver.Chrome(executable_path=r\"C:\\Users\\SAURABH UPADHYAY\\driver\\cd.exe\")"
   ]
  },
  {
   "cell_type": "code",
   "execution_count": 9,
   "metadata": {},
   "outputs": [],
   "source": [
    "url=\"https://in.reuters.com/\"\n",
    "driver.get(url)\n",
    "time.sleep(10)\n"
   ]
  },
  {
   "cell_type": "code",
   "execution_count": 10,
   "metadata": {},
   "outputs": [
    {
     "name": "stdout",
     "output_type": "stream",
     "text": [
      "TITLE=  REUTERS BUSINESS & FINANCE - BUSINESS NEWS INDIA, LATEST FINANCIAL NEWS, FINANCE BUSINESS HEADLINES, INDIA\n",
      "URL=  https://in.reuters.com/finance\n",
      "Business\n",
      "extraction of  https://in.reuters.com/finance  completed.Time elasped= 12.96 minutes. Moving next\n",
      "\n",
      "TITLE=  MONEY NEWS HEADLINES | REUTERS\n",
      "URL=  https://in.reuters.com/news/archive/businessnews?view=page&page=17&pageSize=10\n",
      "India\n",
      "Kashmir\n",
      "Top News\n",
      "Monsoon\n",
      "Top News Video\n",
      "extraction of  https://in.reuters.com/news/archive/businessnews?view=page&page=17&pageSize=10  completed.Time elasped= 12.75 minutes. Moving next\n",
      "\n",
      "TITLE=  MONEY NEWS HEADLINES | REUTERS\n",
      "URL=  https://in.reuters.com/news/archive/businessnews?view=page&page=17&pageSize=10\n",
      "World\n",
      "World Home\n",
      "Middle East\n",
      "Special Reports\n",
      "Reuters Investigates\n",
      "World Video\n",
      "extraction of  https://in.reuters.com/news/archive/businessnews?view=page&page=17&pageSize=10  completed.Time elasped= 12.89 minutes. Moving next\n",
      "\n",
      "TITLE=  MONEY NEWS HEADLINES | REUTERS\n",
      "URL=  https://in.reuters.com/news/archive/businessnews?view=page&page=21&pageSize=10\n",
      "Tech\n",
      "Technology Home\n",
      "Science\n",
      "Tech Video\n",
      "Innovation\n",
      "Energy And Environment\n",
      "extraction of  https://in.reuters.com/news/archive/businessnews?view=page&page=21&pageSize=10  completed.Time elasped= 12.81 minutes. Moving next\n",
      "\n",
      "TITLE=  MONEY NEWS HEADLINES | REUTERS\n",
      "URL=  https://in.reuters.com/news/archive/businessnews?view=page&page=22&pageSize=10\n",
      "Sport & Life\n",
      "Sports\n",
      "Lifestyle\n",
      "Entertainment\n",
      "Oddly Enough\n",
      "Health\n",
      "Arts\n",
      "Lifestyle Video\n",
      "extraction of  https://in.reuters.com/news/archive/businessnews?view=page&page=22&pageSize=10  completed.Time elasped= 12.83 minutes. Moving next\n",
      "\n"
     ]
    }
   ],
   "source": [
    "#getting topics to scrap\n",
    "start=1\n",
    "end=40\n",
    "id=[\"nav-item-2\",\"nav-item-4\",\"nav-item-6\",\"nav-item-7\",\"nav-item-9\"]  #id of fields to scrap\n",
    "\n",
    "\n",
    "for x in id:\n",
    "    start_time=time.time()\n",
    "    driver.find_element_by_id(x).click()\n",
    "    time.sleep(10)\n",
    "    print(\"TITLE= \",driver.title.upper())\n",
    "    url=driver.current_url\n",
    "    print(\"URL= \",url)\n",
    "    \n",
    "    topics=driver.find_element_by_id(x)\n",
    "    top=topics.text\n",
    "    print(top)\n",
    "    \n",
    "    button=driver.find_element_by_class_name(\"control-nav-next\")  #will start scrapping from 2nd page\n",
    "    button.click()\n",
    "    time.sleep(7)\n",
    "    for y in range (start,end):     \n",
    "        \n",
    "        try:\n",
    "            scrapper(driver=driver,page=y,top=top)\n",
    "           \n",
    "            button=driver.find_element_by_class_name(\"control-nav-next\")\n",
    "            wait= wdt(driver,20)\n",
    "            wait.until(ec.element_to_be_clickable((By.CLASS_NAME,\"control-nav-next\")))\n",
    "            button.click()\n",
    "            time.sleep(7)\n",
    "            \n",
    "        except ser:\n",
    "            print('error while scrapping')\n",
    "            error_page=driver.find_element_by_class_name(\"control-nav-next\").text\n",
    "            error_url= error_page.get_attribute('href')\n",
    "            driver.get(error_url)\n",
    "            scrapper(driver=driver,page=x)\n",
    "            button=driver.find_element_by_class_name(\"control-nav-next\")\n",
    "            button.click()\n",
    "            time.sleep(5)\n",
    "    end_time=time.time()\n",
    "\n",
    "    print('extraction of ',url,' completed.Time elasped=',round((end_time-start_time)/60,2),'minutes.', 'Moving next\\n')"
   ]
  },
  {
   "cell_type": "code",
   "execution_count": 11,
   "metadata": {},
   "outputs": [
    {
     "name": "stdout",
     "output_type": "stream",
     "text": [
      "topic== 200 \n",
      "link== 200\n"
     ]
    }
   ],
   "source": [
    "print(\"topic==\",len(reuter['topic']),'\\nlink==',len(link))"
   ]
  },
  {
   "cell_type": "code",
   "execution_count": 12,
   "metadata": {},
   "outputs": [],
   "source": [
    "#getting the news\n",
    "for i in link:\n",
    "    driver.get(i)\n",
    "    time.sleep(7)\n",
    "    element1= driver.find_elements_by_xpath(\"//p[@class='Paragraph-paragraph-2Bgue ArticleBody-para-TD_9x']\")\n",
    "    element2= driver.find_elements_by_tag_name('h1')\n",
    "    \n",
    "    article=''\n",
    "    \n",
    "    for x in element1:\n",
    "        article = article + ' ' +  x.text\n",
    "    reuter['desc'].append(article)\n",
    "        \n",
    "    for y in element2:\n",
    "        reuter['head'].append(y.text)"
   ]
  },
  {
   "cell_type": "code",
   "execution_count": 13,
   "metadata": {},
   "outputs": [
    {
     "name": "stdout",
     "output_type": "stream",
     "text": [
      "head== 200 description== 200\n"
     ]
    }
   ],
   "source": [
    "print(\"head==\",len(reuter['head']),'description==',len(reuter['desc']))"
   ]
  },
  {
   "cell_type": "code",
   "execution_count": 14,
   "metadata": {},
   "outputs": [
    {
     "data": {
      "text/html": [
       "<div>\n",
       "<style scoped>\n",
       "    .dataframe tbody tr th:only-of-type {\n",
       "        vertical-align: middle;\n",
       "    }\n",
       "\n",
       "    .dataframe tbody tr th {\n",
       "        vertical-align: top;\n",
       "    }\n",
       "\n",
       "    .dataframe thead th {\n",
       "        text-align: right;\n",
       "    }\n",
       "</style>\n",
       "<table border=\"1\" class=\"dataframe\">\n",
       "  <thead>\n",
       "    <tr style=\"text-align: right;\">\n",
       "      <th></th>\n",
       "      <th>head</th>\n",
       "      <th>desc</th>\n",
       "      <th>topic</th>\n",
       "    </tr>\n",
       "  </thead>\n",
       "  <tbody>\n",
       "    <tr>\n",
       "      <th>70</th>\n",
       "      <td>Some in BOJ warned pandemic could delay Japan'...</td>\n",
       "      <td>TOKYO (Reuters) - Some Bank of Japan board me...</td>\n",
       "      <td>Business</td>\n",
       "    </tr>\n",
       "    <tr>\n",
       "      <th>49</th>\n",
       "      <td>India's ShareChat raises $40 million from inve...</td>\n",
       "      <td>NEW DELHI (Reuters) - Indian content-sharing ...</td>\n",
       "      <td>Business</td>\n",
       "    </tr>\n",
       "    <tr>\n",
       "      <th>44</th>\n",
       "      <td>RBI rejects all bids at first open market bond...</td>\n",
       "      <td>MUMBAI (Reuters) - The Reserve Bank of India ...</td>\n",
       "      <td>Business</td>\n",
       "    </tr>\n",
       "    <tr>\n",
       "      <th>133</th>\n",
       "      <td>TikTok's promise of 25,000 new U.S. jobs sets ...</td>\n",
       "      <td>(Reuters) - Even as dealmakers bicker over wh...</td>\n",
       "      <td>World\\nWorld Home\\nMiddle East\\nSpecial Report...</td>\n",
       "    </tr>\n",
       "    <tr>\n",
       "      <th>27</th>\n",
       "      <td>G7 ministers back extension of debt freeze for...</td>\n",
       "      <td>WASHINGTON/TOKYO/PARIS (Reuters) - G7 finance...</td>\n",
       "      <td>Business</td>\n",
       "    </tr>\n",
       "    <tr>\n",
       "      <th>155</th>\n",
       "      <td>Airbus CEO: we can't guarantee no compulsory l...</td>\n",
       "      <td>PARIS (Reuters) - European planemaker Airbus ...</td>\n",
       "      <td>World\\nWorld Home\\nMiddle East\\nSpecial Report...</td>\n",
       "    </tr>\n",
       "    <tr>\n",
       "      <th>13</th>\n",
       "      <td>Singapore's August factory output beats expect...</td>\n",
       "      <td>SINGAPORE (Reuters) - Singapore’s industrial ...</td>\n",
       "      <td>Business</td>\n",
       "    </tr>\n",
       "    <tr>\n",
       "      <th>114</th>\n",
       "      <td>Sensex, Nifty slide for fifth session as Airte...</td>\n",
       "      <td>BENGALURU (Reuters) - Indian shares fell on W...</td>\n",
       "      <td>Business</td>\n",
       "    </tr>\n",
       "    <tr>\n",
       "      <th>130</th>\n",
       "      <td>Singapore's deflation extends to seventh month...</td>\n",
       "      <td>SINGAPORE (Reuters) - Singapore’s main price ...</td>\n",
       "      <td>World\\nWorld Home\\nMiddle East\\nSpecial Report...</td>\n",
       "    </tr>\n",
       "    <tr>\n",
       "      <th>102</th>\n",
       "      <td>U.S. SEC votes on expanded tipster program to ...</td>\n",
       "      <td>WASHINGTON (Reuters) - The U.S. Securities an...</td>\n",
       "      <td>Business</td>\n",
       "    </tr>\n",
       "  </tbody>\n",
       "</table>\n",
       "</div>"
      ],
      "text/plain": [
       "                                                  head  \\\n",
       "70   Some in BOJ warned pandemic could delay Japan'...   \n",
       "49   India's ShareChat raises $40 million from inve...   \n",
       "44   RBI rejects all bids at first open market bond...   \n",
       "133  TikTok's promise of 25,000 new U.S. jobs sets ...   \n",
       "27   G7 ministers back extension of debt freeze for...   \n",
       "155  Airbus CEO: we can't guarantee no compulsory l...   \n",
       "13   Singapore's August factory output beats expect...   \n",
       "114  Sensex, Nifty slide for fifth session as Airte...   \n",
       "130  Singapore's deflation extends to seventh month...   \n",
       "102  U.S. SEC votes on expanded tipster program to ...   \n",
       "\n",
       "                                                  desc  \\\n",
       "70    TOKYO (Reuters) - Some Bank of Japan board me...   \n",
       "49    NEW DELHI (Reuters) - Indian content-sharing ...   \n",
       "44    MUMBAI (Reuters) - The Reserve Bank of India ...   \n",
       "133   (Reuters) - Even as dealmakers bicker over wh...   \n",
       "27    WASHINGTON/TOKYO/PARIS (Reuters) - G7 finance...   \n",
       "155   PARIS (Reuters) - European planemaker Airbus ...   \n",
       "13    SINGAPORE (Reuters) - Singapore’s industrial ...   \n",
       "114   BENGALURU (Reuters) - Indian shares fell on W...   \n",
       "130   SINGAPORE (Reuters) - Singapore’s main price ...   \n",
       "102   WASHINGTON (Reuters) - The U.S. Securities an...   \n",
       "\n",
       "                                                 topic  \n",
       "70                                            Business  \n",
       "49                                            Business  \n",
       "44                                            Business  \n",
       "133  World\\nWorld Home\\nMiddle East\\nSpecial Report...  \n",
       "27                                            Business  \n",
       "155  World\\nWorld Home\\nMiddle East\\nSpecial Report...  \n",
       "13                                            Business  \n",
       "114                                           Business  \n",
       "130  World\\nWorld Home\\nMiddle East\\nSpecial Report...  \n",
       "102                                           Business  "
      ]
     },
     "execution_count": 14,
     "metadata": {},
     "output_type": "execute_result"
    }
   ],
   "source": [
    "rtr=pd.DataFrame(reuter)\n",
    "rtr.sample(10)"
   ]
  },
  {
   "cell_type": "code",
   "execution_count": 15,
   "metadata": {},
   "outputs": [],
   "source": [
    "driver.quit()"
   ]
  },
  {
   "cell_type": "code",
   "execution_count": 16,
   "metadata": {},
   "outputs": [
    {
     "ename": "SyntaxError",
     "evalue": "invalid syntax (<ipython-input-16-0771b6bee768>, line 1)",
     "output_type": "error",
     "traceback": [
      "\u001b[1;36m  File \u001b[1;32m\"<ipython-input-16-0771b6bee768>\"\u001b[1;36m, line \u001b[1;32m1\u001b[0m\n\u001b[1;33m    THE TELEGRAPH\u001b[0m\n\u001b[1;37m                ^\u001b[0m\n\u001b[1;31mSyntaxError\u001b[0m\u001b[1;31m:\u001b[0m invalid syntax\n"
     ]
    }
   ],
   "source": [
    "THE TELEGRAPH"
   ]
  },
  {
   "cell_type": "code",
   "execution_count": 17,
   "metadata": {},
   "outputs": [],
   "source": [
    "#scrapping news\n",
    "news2={}\n",
    "news2['head']=[]\n",
    "news2['desc']=[]\n",
    "news2['topic']=[]\n",
    "link=[]\n",
    "temp=[]\n",
    "\n",
    "def scrapper(driver,page,top):\n",
    "    driver.execute_script(\"window.scrollTo(0,document.body.scrollHeight)\")\n",
    "    time.sleep(12)\n",
    "\n",
    "    links=driver.find_elements_by_xpath(\"//h2[@class='fs-22 noto-regular']//a\")\n",
    "\n",
    "    \n",
    "    \n",
    "    \n",
    "    for i in links:\n",
    "        temp.append(i.get_attribute('href'))\n",
    "    \n",
    "    for li in temp:\n",
    "        if li not in link:\n",
    "            link.append(li)   #getting unique/unduplicated links of news\n",
    "            news2['topic'].append(top)"
   ]
  },
  {
   "cell_type": "code",
   "execution_count": 18,
   "metadata": {},
   "outputs": [],
   "source": [
    "chrome_options = webdriver.ChromeOptions()\n",
    "prefs = {\"profile.default_content_setting_values.notifications\" : 2}\n",
    "chrome_options.add_experimental_option(\"prefs\",prefs)\n",
    "#this news paper is generating warning so to disable it........\n",
    "\n",
    "driver=webdriver.Chrome(executable_path=r\"C:\\Users\\SAURABH UPADHYAY\\driver\\cd.exe\")"
   ]
  },
  {
   "cell_type": "code",
   "execution_count": 19,
   "metadata": {},
   "outputs": [
    {
     "name": "stdout",
     "output_type": "stream",
     "text": [
      "URL=  https://www.telegraphindia.com/states\n",
      "extraction completed.Time elasped= 5.69 minutes.\n",
      "\n",
      "URL=  https://www.telegraphindia.com/world\n",
      "extraction completed.Time elasped= 6.37 minutes.\n",
      "\n",
      "URL=  https://www.telegraphindia.com/business\n",
      "extraction completed.Time elasped= 5.96 minutes.\n",
      "\n",
      "URL=  https://www.telegraphindia.com/sports\n",
      "extraction completed.Time elasped= 5.11 minutes.\n",
      "\n",
      "URL=  https://www.telegraphindia.com/culture\n",
      "extraction completed.Time elasped= 6.76 minutes.\n",
      "\n"
     ]
    }
   ],
   "source": [
    "#getting topics to scrap\n",
    "start=1\n",
    "end=15\n",
    "href=[\"states\",\"world\",\"business\",\"sports\",'culture']\n",
    "\n",
    "\n",
    "for x in href:\n",
    "    start_time=time.time()\n",
    "    url=\"https://www.telegraphindia.com/\"+x\n",
    "    driver.get(url)\n",
    "    time.sleep(10)\n",
    "    current=driver.current_url\n",
    "    print(\"URL= \",current)\n",
    "    time.sleep(5)\n",
    "    for y in range (start,end):     \n",
    "        \n",
    "        try:\n",
    "            scrapper(driver=driver,page=y,top=x)\n",
    "            next_page=\"https://www.telegraphindia.com/\"+x+'/page-'+str(y+1)\n",
    "            driver.get(next_page)\n",
    "            time.sleep(7)\n",
    "            \n",
    "        except ser:\n",
    "            print('error while scrapping')\n",
    "            error_page=\"https://www.telegraphindia.com/\"+x+'/page-'+str(y+1)\n",
    "            error_url= error_page\n",
    "            driver.get(error_url)\n",
    "            scrapper(driver=driver,page=x)\n",
    "            next_page=\"https://www.telegraphindia.com/\"+x+'/page-'+str(y+1)\n",
    "            driver.get(next_page)\n",
    "            time.sleep(5)\n",
    "        \n",
    "    end_time=time.time()\n",
    "    print('extraction completed.Time elasped=',round((end_time-start_time)/60,2),'minutes.\\n')"
   ]
  },
  {
   "cell_type": "code",
   "execution_count": 20,
   "metadata": {},
   "outputs": [
    {
     "name": "stdout",
     "output_type": "stream",
     "text": [
      "topic== 699 \n",
      "link== 699\n"
     ]
    }
   ],
   "source": [
    "print(\"topic==\",len(news2['topic']),'\\nlink==',len(link))"
   ]
  },
  {
   "cell_type": "code",
   "execution_count": 21,
   "metadata": {},
   "outputs": [],
   "source": [
    "#getting the news\n",
    "for i in link:\n",
    "    driver.get(i)\n",
    "    time.sleep(7)\n",
    "    element1= driver.find_elements_by_xpath(\"//div[@class='fs-17 pt-2 noto-regular']\")\n",
    "    \n",
    "    element2= driver.find_elements_by_tag_name('h1')\n",
    "    \n",
    "    article=''\n",
    "    \n",
    "    for x in element1:\n",
    "        article = article + ' ' +  x.text\n",
    "    news2['desc'].append(article)\n",
    "        \n",
    "    for y in element2:\n",
    "        news2['head'].append(y.text)"
   ]
  },
  {
   "cell_type": "code",
   "execution_count": 22,
   "metadata": {},
   "outputs": [
    {
     "name": "stdout",
     "output_type": "stream",
     "text": [
      "head 699 desc 699\n"
     ]
    }
   ],
   "source": [
    "print('head',len(news2['head']),'desc',len(news2['desc']))"
   ]
  },
  {
   "cell_type": "code",
   "execution_count": 23,
   "metadata": {},
   "outputs": [
    {
     "data": {
      "text/plain": [
       "['Sikkim body ups ante on hospitals',\n",
       " 'Ex-chief of Sikkim tourism body held under Pocso charges',\n",
       " 'Covid protocol breach case on duo in Sikkim',\n",
       " 'Don’t derail HIV combat: Forum']"
      ]
     },
     "execution_count": 23,
     "metadata": {},
     "output_type": "execute_result"
    }
   ],
   "source": [
    "news2['head'][3:7]"
   ]
  },
  {
   "cell_type": "code",
   "execution_count": 24,
   "metadata": {},
   "outputs": [
    {
     "data": {
      "text/plain": [
       "[' The Sikkim Progressive Youth Forum has threatened to take to the streets if the government fails to upgrade facilities at state hospitals and ensure free medicine and health services by November 30.\\nIn a release issued on Monday, SPYF said the government had failed to deliver on the twin demands despite the assurance given to the forum by health minister Dr M.K. Sharma in February. \"We have no choice other than to issue an ultimatum to the government to fulfill the twopoint demands within Nov 30 2020, else, we will take to the streets,\" said the forum.\\nIn February, the SPYF had submitted a memorandum to the minister along with 10,000 signatures of the public in support of its demands for upgrading facilities at government hospitals according to the Indian Public Health Standard (IPHS) guidelines and provision for free medical services and medicines to the people. ‘Dr Sharma had assured us that our demands would be fulfilled within two months of the budget session, but the condition of the hospitals continue to remain the same even after five months of the budget session,’ it regretted.\\nThe SPYF said district hospitals apart, even the condition of primary health centres was in a pathetic state. “The condition of PHCs is so bad that people hardly go there. They are only there in name,” it alleged.\\nThe SPYF has been spearheading the campaign to upgrade health facilities in the state for two-and-a-half years. Besides the signature campaign, it had held mass movements on three different occasions. The forum had also organised ‘Gangtok Chalo’ march from Geyzing in West Sikkim to Gangtok in January 2019 to highlight the abysmal condition of the Geyzing District Hospital.',\n",
       " ' Rup Narayan Rai, a former chairman of the Sikkim Tourism Development Corporation, was arrested on the charges of sexually assaulting a minor girl after he surrendered before South Sikkim police on Monday.\\nRai, 53, had been absconding since Friday night after a family member of the victim had lodged a complaint of sexual assault against Rai at the Melli police station. The police had launched a search for Rai in South Sikkim.\\nRai is alleged to have assaulted the 13-year-old at his house in Sadam village on several occasions. The girl from a remote village in the South Sikkim had been staying with his family for the past few months to pursue her education.\\nThe police have said Rai has been booked under relevant sections of the Protection of Children from Sexual Offences Act, 2012. “He will be produced in a court in Namchi (South Sikkim) in 24 hours,” said Prawin Gurung, the deputy inspector general of police, Range.\\nThe Sikkim Democratic Front, under whose government Rai had served as the STDC chairman, suspended him until the completion of the process of law.\\nAdvertisement\\nPowered By PLAYSTREAM',\n",
       " ' Sikkim police on Monday filed a case against two visiting technicians who tested positive for Covid-19 for allegedly violating the Covid-19 protocol and endangering the lives of others.\\nThe duo were part of a five-member team from Calcutta and Delhi and visited Gangtok on August 6 for maintenance work at State Data Centre at the IT department’s invitation.\\nIT secretary Mrinalini Shrivastava sought special permission from the East Sikkim administration for the team’s entry. Granting permission, the district administration had stated that the team would have to undergo rapid antigen test at the entry point, and travel to their places of work and stay in an ambulance under police cover at all times.\\nDuring their week-plus stay, the team visited other places and met some MLAs, including Aditya Golay, son of chief minister P.S. Tamang (Golay), and bureaucrats at meetings facilitated by the IT department. Two team members tested positive on Sunday.\\nThe police filed a case against the two under IPC sections for disobedience of public order and endangering lives of others, and for refusing to comply with the government directive under the Disaster Management Act, 2005.\\nS. C. Gupta, the state’s chief secretary, sought an explanation from IT secretary Shrivastava on the issue.\\nSince some meetings took place at the Tashiling secretariat in Gangtok, the entire complex has been declared as a containment zone.\\nThe incident created a furore in Sikkim with many wondering why the administration had not acted with same alacrity against politicians and bureaucrats as they did against the technician duo.',\n",
       " ' The Sikkim Drug Users’ Forum (SDUF) has expressed fears that HIV prevention activities may have taken a back seat in Sikkim because of an allegedly lax state health department amid the Covid-19 pandemic.\\nForum president Rinzing Bhutia said HIV prevention programme should not be derailed despite the prevailing Covid pandemic.\\n“An emerging public health crisis should not be the reason to derail the handling of an existing crisis,” she said.\\nCiting an example of the department’s alleged casual attitude, Bhutia said a counsellor attached to the oral substitute therapy (OST) centre at Jorethang Hospital and a technician at the integrated counselling and testing centre (ICTC) at Namchi District Hospital were transferred over a year back, but their replacements had not yet arrived.\\nEven more perplexing is the fact that the two persons who had been transferred worked for the State AIDS Control Society under the National AIDS Control Organisation (Naco) of the Union health ministry, she said.\\nBhutia added that the two persons who were transferred had been trained and experienced persons. Such transfers affect the continuity of effective HIV service deliveries, she said.\\n“Ideally, we would want the department to retransfer both to their original places of posting instead of giving replacements,” she added.\\nThe SDUF president also said her organisation had written to Sikkim health minister M.K. Sharma on July 6 on the issue, but got no response.\\n“If there is no positive action on the issue, the health minister will be held accountable for any loss of life and the spread of new HIV infections in the state,” she warned.\\nSources said Sikkim now has a little over 200 patients under antiretroviral therapy, or the HIV treatment regime.\\nThe Telegraph could not contact the health minister on phone despite repeated attempts.\\nThe Sikkim Drug Users’ Forum initiates community-led action for the health and rights of the people who use drugs.\\nThe SDUF has said that during the Covid-induced lockdown in Sikkim, it has been “tirelessly delivering crucial life-saving medicines to people suffering from HIV”, among others.']"
      ]
     },
     "execution_count": 24,
     "metadata": {},
     "output_type": "execute_result"
    }
   ],
   "source": [
    "news2['desc'][3:7]"
   ]
  },
  {
   "cell_type": "code",
   "execution_count": 25,
   "metadata": {},
   "outputs": [
    {
     "data": {
      "text/html": [
       "<div>\n",
       "<style scoped>\n",
       "    .dataframe tbody tr th:only-of-type {\n",
       "        vertical-align: middle;\n",
       "    }\n",
       "\n",
       "    .dataframe tbody tr th {\n",
       "        vertical-align: top;\n",
       "    }\n",
       "\n",
       "    .dataframe thead th {\n",
       "        text-align: right;\n",
       "    }\n",
       "</style>\n",
       "<table border=\"1\" class=\"dataframe\">\n",
       "  <thead>\n",
       "    <tr style=\"text-align: right;\">\n",
       "      <th></th>\n",
       "      <th>head</th>\n",
       "      <th>desc</th>\n",
       "      <th>topic</th>\n",
       "    </tr>\n",
       "  </thead>\n",
       "  <tbody>\n",
       "    <tr>\n",
       "      <th>108</th>\n",
       "      <td>Ranchi traders lock up markets</td>\n",
       "      <td>Angry and insecure over the failure of Ranchi...</td>\n",
       "      <td>states</td>\n",
       "    </tr>\n",
       "    <tr>\n",
       "      <th>516</th>\n",
       "      <td>Looking back at some of the most shocking spor...</td>\n",
       "      <td>Having sailed through the initial rounds at t...</td>\n",
       "      <td>sports</td>\n",
       "    </tr>\n",
       "    <tr>\n",
       "      <th>618</th>\n",
       "      <td>Listening to freedom tales</td>\n",
       "      <td>If you are ever feeling low, you should dial ...</td>\n",
       "      <td>culture</td>\n",
       "    </tr>\n",
       "    <tr>\n",
       "      <th>146</th>\n",
       "      <td>US elections 2020: Trump bar on Cuban rum, cigars</td>\n",
       "      <td>US President Donald Trump on Wednesday impose...</td>\n",
       "      <td>world</td>\n",
       "    </tr>\n",
       "    <tr>\n",
       "      <th>237</th>\n",
       "      <td>AC explosion in Bangladesh mosque kills 12, in...</td>\n",
       "      <td>At least 12 worshippers, including a child, w...</td>\n",
       "      <td>world</td>\n",
       "    </tr>\n",
       "    <tr>\n",
       "      <th>582</th>\n",
       "      <td>Federica Imperiali on diamond buying trends du...</td>\n",
       "      <td>Federica Imperiali speaks with clarity, convi...</td>\n",
       "      <td>culture</td>\n",
       "    </tr>\n",
       "    <tr>\n",
       "      <th>613</th>\n",
       "      <td>Elvis Presley left the building 43 years ago...</td>\n",
       "      <td>Early this month, a music milestone was made ...</td>\n",
       "      <td>culture</td>\n",
       "    </tr>\n",
       "    <tr>\n",
       "      <th>157</th>\n",
       "      <td>Nawaz Sharif launches scathing attack on Pak A...</td>\n",
       "      <td>Pakistan's deposed premier Nawaz Sharif on ...</td>\n",
       "      <td>world</td>\n",
       "    </tr>\n",
       "    <tr>\n",
       "      <th>626</th>\n",
       "      <td>Abhishek Dutta unveils his new resort wear lin...</td>\n",
       "      <td>From tribal-print bikini to chanderi cold-sho...</td>\n",
       "      <td>culture</td>\n",
       "    </tr>\n",
       "  </tbody>\n",
       "</table>\n",
       "</div>"
      ],
      "text/plain": [
       "                                                  head  \\\n",
       "108                     Ranchi traders lock up markets   \n",
       "516  Looking back at some of the most shocking spor...   \n",
       "618                         Listening to freedom tales   \n",
       "146  US elections 2020: Trump bar on Cuban rum, cigars   \n",
       "237  AC explosion in Bangladesh mosque kills 12, in...   \n",
       "582  Federica Imperiali on diamond buying trends du...   \n",
       "613    Elvis Presley left the building 43 years ago...   \n",
       "157  Nawaz Sharif launches scathing attack on Pak A...   \n",
       "626  Abhishek Dutta unveils his new resort wear lin...   \n",
       "\n",
       "                                                  desc    topic  \n",
       "108   Angry and insecure over the failure of Ranchi...   states  \n",
       "516   Having sailed through the initial rounds at t...   sports  \n",
       "618   If you are ever feeling low, you should dial ...  culture  \n",
       "146   US President Donald Trump on Wednesday impose...    world  \n",
       "237   At least 12 worshippers, including a child, w...    world  \n",
       "582   Federica Imperiali speaks with clarity, convi...  culture  \n",
       "613   Early this month, a music milestone was made ...  culture  \n",
       "157     Pakistan's deposed premier Nawaz Sharif on ...    world  \n",
       "626   From tribal-print bikini to chanderi cold-sho...  culture  "
      ]
     },
     "execution_count": 25,
     "metadata": {},
     "output_type": "execute_result"
    }
   ],
   "source": [
    "tlg=pd.DataFrame(news2)\n",
    "tlg.sample(9)"
   ]
  },
  {
   "cell_type": "code",
   "execution_count": 26,
   "metadata": {},
   "outputs": [],
   "source": [
    "#function to create directory\n",
    "\n",
    "def save_data(directory_name):\n",
    "    \n",
    "    CurrentPath=os.getcwd()\n",
    "    path=os.path.join(CurrentPath,directory_name)\n",
    "    if not os.path.exists(path):\n",
    "        os.makedirs(path)\n",
    "    print('Directory {0} has been Created\\n\\n'.format(directory_name))"
   ]
  },
  {
   "cell_type": "code",
   "execution_count": 28,
   "metadata": {},
   "outputs": [
    {
     "name": "stdout",
     "output_type": "stream",
     "text": [
      "Directory news_scrapping1 has been Created\n",
      "\n",
      "\n"
     ]
    }
   ],
   "source": [
    "#CREATING DIRECTORY AND SAVING THE FILE\n",
    "save_data('news_scrapping1')"
   ]
  },
  {
   "cell_type": "code",
   "execution_count": 29,
   "metadata": {},
   "outputs": [
    {
     "data": {
      "text/html": [
       "<div>\n",
       "<style scoped>\n",
       "    .dataframe tbody tr th:only-of-type {\n",
       "        vertical-align: middle;\n",
       "    }\n",
       "\n",
       "    .dataframe tbody tr th {\n",
       "        vertical-align: top;\n",
       "    }\n",
       "\n",
       "    .dataframe thead th {\n",
       "        text-align: right;\n",
       "    }\n",
       "</style>\n",
       "<table border=\"1\" class=\"dataframe\">\n",
       "  <thead>\n",
       "    <tr style=\"text-align: right;\">\n",
       "      <th></th>\n",
       "      <th>head</th>\n",
       "      <th>desc</th>\n",
       "      <th>topic</th>\n",
       "    </tr>\n",
       "  </thead>\n",
       "  <tbody>\n",
       "    <tr>\n",
       "      <th>0</th>\n",
       "      <td>S&amp;P affirms India's long-term sovereign credit...</td>\n",
       "      <td>MUMBAI (Reuters) - Rating agency Standard and...</td>\n",
       "      <td>Business</td>\n",
       "    </tr>\n",
       "    <tr>\n",
       "      <th>1</th>\n",
       "      <td>Discounts narrow in top hubs as gold price dip...</td>\n",
       "      <td>BENGALURU/MUMBAI (Reuters) - Physical gold de...</td>\n",
       "      <td>Business</td>\n",
       "    </tr>\n",
       "    <tr>\n",
       "      <th>2</th>\n",
       "      <td>Vodafone wins international arbitration agains...</td>\n",
       "      <td>NEW DELHI (Reuters) - Vodafone Group Plc VOD....</td>\n",
       "      <td>Business</td>\n",
       "    </tr>\n",
       "    <tr>\n",
       "      <th>3</th>\n",
       "      <td>Government to study Vodafone arbitration case ...</td>\n",
       "      <td>BENGALURU (Reuters) - India’s government said...</td>\n",
       "      <td>Business</td>\n",
       "    </tr>\n",
       "    <tr>\n",
       "      <th>4</th>\n",
       "      <td>Harley close to deal with India's Hero after s...</td>\n",
       "      <td>NEW DELHI (Reuters) - Harley-Davidson Inc is ...</td>\n",
       "      <td>Business</td>\n",
       "    </tr>\n",
       "  </tbody>\n",
       "</table>\n",
       "</div>"
      ],
      "text/plain": [
       "                                                head  \\\n",
       "0  S&P affirms India's long-term sovereign credit...   \n",
       "1  Discounts narrow in top hubs as gold price dip...   \n",
       "2  Vodafone wins international arbitration agains...   \n",
       "3  Government to study Vodafone arbitration case ...   \n",
       "4  Harley close to deal with India's Hero after s...   \n",
       "\n",
       "                                                desc     topic  \n",
       "0   MUMBAI (Reuters) - Rating agency Standard and...  Business  \n",
       "1   BENGALURU/MUMBAI (Reuters) - Physical gold de...  Business  \n",
       "2   NEW DELHI (Reuters) - Vodafone Group Plc VOD....  Business  \n",
       "3   BENGALURU (Reuters) - India’s government said...  Business  \n",
       "4   NEW DELHI (Reuters) - Harley-Davidson Inc is ...  Business  "
      ]
     },
     "execution_count": 29,
     "metadata": {},
     "output_type": "execute_result"
    }
   ],
   "source": [
    "rtr.head(5)"
   ]
  },
  {
   "cell_type": "code",
   "execution_count": 30,
   "metadata": {},
   "outputs": [
    {
     "data": {
      "text/html": [
       "<div>\n",
       "<style scoped>\n",
       "    .dataframe tbody tr th:only-of-type {\n",
       "        vertical-align: middle;\n",
       "    }\n",
       "\n",
       "    .dataframe tbody tr th {\n",
       "        vertical-align: top;\n",
       "    }\n",
       "\n",
       "    .dataframe thead th {\n",
       "        text-align: right;\n",
       "    }\n",
       "</style>\n",
       "<table border=\"1\" class=\"dataframe\">\n",
       "  <thead>\n",
       "    <tr style=\"text-align: right;\">\n",
       "      <th></th>\n",
       "      <th>head</th>\n",
       "      <th>desc</th>\n",
       "      <th>topic</th>\n",
       "    </tr>\n",
       "  </thead>\n",
       "  <tbody>\n",
       "    <tr>\n",
       "      <th>0</th>\n",
       "      <td>Agitation threat by students of Sikkim college</td>\n",
       "      <td>The students of Government Vocational College...</td>\n",
       "      <td>states</td>\n",
       "    </tr>\n",
       "    <tr>\n",
       "      <th>1</th>\n",
       "      <td>Three new faces join Sikkim cricket</td>\n",
       "      <td>The Sikkim Cricket Association (SICA) has eng...</td>\n",
       "      <td>states</td>\n",
       "    </tr>\n",
       "    <tr>\n",
       "      <th>2</th>\n",
       "      <td>Woman drowned, search on for siblings in Sikkim</td>\n",
       "      <td>Three siblings in their 20s from Kazitar Dikc...</td>\n",
       "      <td>states</td>\n",
       "    </tr>\n",
       "    <tr>\n",
       "      <th>3</th>\n",
       "      <td>Sikkim body ups ante on hospitals</td>\n",
       "      <td>The Sikkim Progressive Youth Forum has threat...</td>\n",
       "      <td>states</td>\n",
       "    </tr>\n",
       "    <tr>\n",
       "      <th>4</th>\n",
       "      <td>Ex-chief of Sikkim tourism body held under Poc...</td>\n",
       "      <td>Rup Narayan Rai, a former chairman of the Sik...</td>\n",
       "      <td>states</td>\n",
       "    </tr>\n",
       "  </tbody>\n",
       "</table>\n",
       "</div>"
      ],
      "text/plain": [
       "                                                head  \\\n",
       "0     Agitation threat by students of Sikkim college   \n",
       "1                Three new faces join Sikkim cricket   \n",
       "2    Woman drowned, search on for siblings in Sikkim   \n",
       "3                  Sikkim body ups ante on hospitals   \n",
       "4  Ex-chief of Sikkim tourism body held under Poc...   \n",
       "\n",
       "                                                desc   topic  \n",
       "0   The students of Government Vocational College...  states  \n",
       "1   The Sikkim Cricket Association (SICA) has eng...  states  \n",
       "2   Three siblings in their 20s from Kazitar Dikc...  states  \n",
       "3   The Sikkim Progressive Youth Forum has threat...  states  \n",
       "4   Rup Narayan Rai, a former chairman of the Sik...  states  "
      ]
     },
     "execution_count": 30,
     "metadata": {},
     "output_type": "execute_result"
    }
   ],
   "source": [
    "tlg.head(5)"
   ]
  },
  {
   "cell_type": "code",
   "execution_count": 31,
   "metadata": {},
   "outputs": [
    {
     "data": {
      "text/html": [
       "<div>\n",
       "<style scoped>\n",
       "    .dataframe tbody tr th:only-of-type {\n",
       "        vertical-align: middle;\n",
       "    }\n",
       "\n",
       "    .dataframe tbody tr th {\n",
       "        vertical-align: top;\n",
       "    }\n",
       "\n",
       "    .dataframe thead th {\n",
       "        text-align: right;\n",
       "    }\n",
       "</style>\n",
       "<table border=\"1\" class=\"dataframe\">\n",
       "  <thead>\n",
       "    <tr style=\"text-align: right;\">\n",
       "      <th></th>\n",
       "      <th>head</th>\n",
       "      <th>desc</th>\n",
       "      <th>topic</th>\n",
       "    </tr>\n",
       "  </thead>\n",
       "  <tbody>\n",
       "    <tr>\n",
       "      <th>0</th>\n",
       "      <td>S&amp;P affirms India's long-term sovereign credit...</td>\n",
       "      <td>MUMBAI (Reuters) - Rating agency Standard and...</td>\n",
       "      <td>Business</td>\n",
       "    </tr>\n",
       "    <tr>\n",
       "      <th>1</th>\n",
       "      <td>Discounts narrow in top hubs as gold price dip...</td>\n",
       "      <td>BENGALURU/MUMBAI (Reuters) - Physical gold de...</td>\n",
       "      <td>Business</td>\n",
       "    </tr>\n",
       "    <tr>\n",
       "      <th>2</th>\n",
       "      <td>Vodafone wins international arbitration agains...</td>\n",
       "      <td>NEW DELHI (Reuters) - Vodafone Group Plc VOD....</td>\n",
       "      <td>Business</td>\n",
       "    </tr>\n",
       "    <tr>\n",
       "      <th>3</th>\n",
       "      <td>Government to study Vodafone arbitration case ...</td>\n",
       "      <td>BENGALURU (Reuters) - India’s government said...</td>\n",
       "      <td>Business</td>\n",
       "    </tr>\n",
       "    <tr>\n",
       "      <th>4</th>\n",
       "      <td>Harley close to deal with India's Hero after s...</td>\n",
       "      <td>NEW DELHI (Reuters) - Harley-Davidson Inc is ...</td>\n",
       "      <td>Business</td>\n",
       "    </tr>\n",
       "    <tr>\n",
       "      <th>...</th>\n",
       "      <td>...</td>\n",
       "      <td>...</td>\n",
       "      <td>...</td>\n",
       "    </tr>\n",
       "    <tr>\n",
       "      <th>894</th>\n",
       "      <td>Grandmaster country? 2018 has been a boom year...</td>\n",
       "      <td>Dropouts\\nThough Indians are reigning at the ...</td>\n",
       "      <td>culture</td>\n",
       "    </tr>\n",
       "    <tr>\n",
       "      <th>895</th>\n",
       "      <td>Crime, punishment and the Grimm brothers</td>\n",
       "      <td>Once upon a time, there were two brothers who...</td>\n",
       "      <td>culture</td>\n",
       "    </tr>\n",
       "    <tr>\n",
       "      <th>896</th>\n",
       "      <td>Tour to revive Chandernagore's 'intangible' he...</td>\n",
       "      <td>Some members of a non-governmental organisati...</td>\n",
       "      <td>culture</td>\n",
       "    </tr>\n",
       "    <tr>\n",
       "      <th>897</th>\n",
       "      <td>Lost and found amidst the bookshelves</td>\n",
       "      <td>It is easy to get lost inside a library as an...</td>\n",
       "      <td>culture</td>\n",
       "    </tr>\n",
       "    <tr>\n",
       "      <th>898</th>\n",
       "      <td>At the Still Point was a celebration of dance ...</td>\n",
       "      <td>At the Still Point, an annual celebration of ...</td>\n",
       "      <td>culture</td>\n",
       "    </tr>\n",
       "  </tbody>\n",
       "</table>\n",
       "<p>899 rows × 3 columns</p>\n",
       "</div>"
      ],
      "text/plain": [
       "                                                  head  \\\n",
       "0    S&P affirms India's long-term sovereign credit...   \n",
       "1    Discounts narrow in top hubs as gold price dip...   \n",
       "2    Vodafone wins international arbitration agains...   \n",
       "3    Government to study Vodafone arbitration case ...   \n",
       "4    Harley close to deal with India's Hero after s...   \n",
       "..                                                 ...   \n",
       "894  Grandmaster country? 2018 has been a boom year...   \n",
       "895           Crime, punishment and the Grimm brothers   \n",
       "896  Tour to revive Chandernagore's 'intangible' he...   \n",
       "897              Lost and found amidst the bookshelves   \n",
       "898  At the Still Point was a celebration of dance ...   \n",
       "\n",
       "                                                  desc     topic  \n",
       "0     MUMBAI (Reuters) - Rating agency Standard and...  Business  \n",
       "1     BENGALURU/MUMBAI (Reuters) - Physical gold de...  Business  \n",
       "2     NEW DELHI (Reuters) - Vodafone Group Plc VOD....  Business  \n",
       "3     BENGALURU (Reuters) - India’s government said...  Business  \n",
       "4     NEW DELHI (Reuters) - Harley-Davidson Inc is ...  Business  \n",
       "..                                                 ...       ...  \n",
       "894   Dropouts\\nThough Indians are reigning at the ...   culture  \n",
       "895   Once upon a time, there were two brothers who...   culture  \n",
       "896   Some members of a non-governmental organisati...   culture  \n",
       "897   It is easy to get lost inside a library as an...   culture  \n",
       "898   At the Still Point, an annual celebration of ...   culture  \n",
       "\n",
       "[899 rows x 3 columns]"
      ]
     },
     "execution_count": 31,
     "metadata": {},
     "output_type": "execute_result"
    }
   ],
   "source": [
    "news=rtr.append(tlg,ignore_index=True)\n",
    "news"
   ]
  },
  {
   "cell_type": "code",
   "execution_count": 32,
   "metadata": {},
   "outputs": [],
   "source": [
    "#SAVING DATAFRAME TO CSV\n",
    "news.to_csv(r'news_scrapping/news_train1.csv',index=False)"
   ]
  },
  {
   "cell_type": "code",
   "execution_count": null,
   "metadata": {},
   "outputs": [],
   "source": []
  }
 ],
 "metadata": {
  "kernelspec": {
   "display_name": "Python 3",
   "language": "python",
   "name": "python3"
  },
  "language_info": {
   "codemirror_mode": {
    "name": "ipython",
    "version": 3
   },
   "file_extension": ".py",
   "mimetype": "text/x-python",
   "name": "python",
   "nbconvert_exporter": "python",
   "pygments_lexer": "ipython3",
   "version": "3.7.6"
  }
 },
 "nbformat": 4,
 "nbformat_minor": 4
}
