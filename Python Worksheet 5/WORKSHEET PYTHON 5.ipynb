{
 "cells": [
  {
   "cell_type": "markdown",
   "metadata": {},
   "source": [
    "### 12. write a python program to square the elements of a list by using list comprehension."
   ]
  },
  {
   "cell_type": "code",
   "execution_count": 1,
   "metadata": {},
   "outputs": [],
   "source": [
    "def sqr(list):\n",
    "    return[i**2 for i in list]\n"
   ]
  },
  {
   "cell_type": "code",
   "execution_count": 2,
   "metadata": {},
   "outputs": [
    {
     "data": {
      "text/plain": [
       "[100, 39601, 361, 1225]"
      ]
     },
     "execution_count": 2,
     "metadata": {},
     "output_type": "execute_result"
    }
   ],
   "source": [
    "sqr([10,199,19,35])"
   ]
  },
  {
   "cell_type": "markdown",
   "metadata": {},
   "source": [
    "### 13.Write a pyhton program to drop duplicate elements from a list of numbers."
   ]
  },
  {
   "cell_type": "code",
   "execution_count": 3,
   "metadata": {},
   "outputs": [
    {
     "name": "stdout",
     "output_type": "stream",
     "text": [
      "number list= [27, 13, 26, 4, 13, 54, 55, 56, 73, 15, 98, 65, 4, 26, 98, 3, 73, 16, 56, 13, 95, 80] \n",
      "number of element= 22 \n",
      "\n",
      "new list after dropping duplicated values= [65, 98, 3, 4, 73, 13, 15, 16, 80, 54, 55, 56, 26, 27, 95]\n",
      "No of element dropped= 7\n"
     ]
    }
   ],
   "source": [
    "numbers=[27,13,26,4,13,54,55,56,73,15,98,65,4,26,98,3,73,16,56,13,95,80]\n",
    "print(\"number list=\",numbers,'\\nnumber of element=',len(numbers),'\\n')\n",
    "\n",
    "new=list(set(numbers))\n",
    "print('new list after dropping duplicated values=', new)\n",
    "print('No of element dropped=', len(numbers)-len(new))"
   ]
  },
  {
   "cell_type": "markdown",
   "metadata": {},
   "source": [
    "### 14.\tTake two sets of numbers and try implementing the set operations - intersection, union, difference and symmetric_difference between them."
   ]
  },
  {
   "cell_type": "code",
   "execution_count": 4,
   "metadata": {},
   "outputs": [
    {
     "name": "stdout",
     "output_type": "stream",
     "text": [
      "Union : {32, 96, 74, 11, 12, 77, 17, 18, 84, 21, 89, 28}\n",
      "\n",
      "Intersection : {32, 96, 77, 17, 21}\n",
      "\n",
      "Difference : {89, 74, 18}\n",
      "\n",
      "Symmetric difference : {74, 11, 12, 18, 84, 89, 28}\n"
     ]
    }
   ],
   "source": [
    "A = {17, 32, 21,89,77,74, 96, 18}; \n",
    "B = {17, 32, 96, 84,12,11,21,77, 28}; \n",
    "print(\"Union :\", A | B) \n",
    "print(\"\\nIntersection :\", A & B) \n",
    "print(\"\\nDifference :\", A - B) \n",
    "print(\"\\nSymmetric difference :\", A ^ B)"
   ]
  },
  {
   "cell_type": "markdown",
   "metadata": {},
   "source": [
    "### 15.\tWrite a python program to add the elements of a set."
   ]
  },
  {
   "cell_type": "code",
   "execution_count": 5,
   "metadata": {},
   "outputs": [
    {
     "name": "stdout",
     "output_type": "stream",
     "text": [
      "s1:\t {'Printers', 'Laptop', 'Desktop', 'Ram'}\n",
      "new s1:\t {'Desktop', 'Graphics card', 'Printers', 'Laptop', 'Ram'}\n",
      "new s1:\t {'Desktop', 'Graphics card', 'Printers', 'SDD', 'Laptop', 'Ram'}\n"
     ]
    }
   ],
   "source": [
    "s1 = { 'Laptop', 'Desktop', 'Printers', 'Ram'}\n",
    "print('s1:\\t', s1)\n",
    "\n",
    "# adding ''Graphics\" to the set\n",
    "s1.add('Graphics card')\n",
    "print('new s1:\\t', s1)\n",
    "\n",
    "# adding 'SDD' \n",
    "s1.add('SDD')\n",
    "print('new s1:\\t', s1)"
   ]
  },
  {
   "cell_type": "code",
   "execution_count": null,
   "metadata": {},
   "outputs": [],
   "source": []
  }
 ],
 "metadata": {
  "kernelspec": {
   "display_name": "Python 3",
   "language": "python",
   "name": "python3"
  },
  "language_info": {
   "codemirror_mode": {
    "name": "ipython",
    "version": 3
   },
   "file_extension": ".py",
   "mimetype": "text/x-python",
   "name": "python",
   "nbconvert_exporter": "python",
   "pygments_lexer": "ipython3",
   "version": "3.7.6"
  }
 },
 "nbformat": 4,
 "nbformat_minor": 4
}
