{
 "cells": [
  {
   "cell_type": "code",
   "execution_count": 1,
   "metadata": {},
   "outputs": [],
   "source": [
    "import cv2,random,numpy as np\n",
    "import os\n",
    "from os import listdir,makedirs\n",
    "from os.path import isfile,join"
   ]
  },
  {
   "cell_type": "markdown",
   "metadata": {},
   "source": [
    "**AUGUMENTING SCRAPPED MEN_JEANS IMAGES**"
   ]
  },
  {
   "cell_type": "code",
   "execution_count": 2,
   "metadata": {},
   "outputs": [
    {
     "name": "stdout",
     "output_type": "stream",
     "text": [
      "A Folder With Such Name Already Exist, Using It\n"
     ]
    }
   ],
   "source": [
    "source = r'C:\\Users\\saura\\cloths\\jeans' # Source Images Folder\n",
    "destination =r'C:\\Users\\saura\\CNN\\AUGMENTATION\\JEANS'  #Folder to save augmented images\n",
    "try:\n",
    "    makedirs(destination)\n",
    "except:\n",
    "    print (\"A Folder With Such Name Already Exist, Using It\")"
   ]
  },
  {
   "cell_type": "code",
   "execution_count": 3,
   "metadata": {},
   "outputs": [
    {
     "data": {
      "text/plain": [
       "['img_10.jpeg',\n",
       " 'img_11.jpeg',\n",
       " 'img_110.jpeg',\n",
       " 'img_111.jpeg',\n",
       " 'img_112.jpeg',\n",
       " 'img_113.jpeg',\n",
       " 'img_114.jpeg',\n",
       " 'img_115.jpeg',\n",
       " 'img_116.jpeg',\n",
       " 'img_117.jpeg',\n",
       " 'img_118.jpeg',\n",
       " 'img_119.jpeg',\n",
       " 'img_12.jpeg',\n",
       " 'img_120.jpeg',\n",
       " 'img_121.jpeg',\n",
       " 'img_122.jpeg',\n",
       " 'img_123.jpeg',\n",
       " 'img_124.jpeg',\n",
       " 'img_125.jpeg',\n",
       " 'img_126.jpeg',\n",
       " 'img_127.jpeg',\n",
       " 'img_128.jpeg',\n",
       " 'img_129.jpeg',\n",
       " 'img_13.jpeg',\n",
       " 'img_130.jpeg',\n",
       " 'img_131.jpeg',\n",
       " 'img_132.jpeg',\n",
       " 'img_133.jpeg',\n",
       " 'img_134.jpeg',\n",
       " 'img_135.jpeg',\n",
       " 'img_136.jpeg',\n",
       " 'img_137.jpeg',\n",
       " 'img_138.jpeg',\n",
       " 'img_139.jpeg',\n",
       " 'img_14.jpeg',\n",
       " 'img_15.jpeg',\n",
       " 'img_16.jpeg',\n",
       " 'img_17.jpeg',\n",
       " 'img_18.jpeg',\n",
       " 'img_19.jpeg',\n",
       " 'img_20.jpeg',\n",
       " 'img_21.jpeg',\n",
       " 'img_210.jpeg',\n",
       " 'img_211.jpeg',\n",
       " 'img_212.jpeg',\n",
       " 'img_213.jpeg',\n",
       " 'img_214.jpeg',\n",
       " 'img_215.jpeg',\n",
       " 'img_216.jpeg',\n",
       " 'img_217.jpeg',\n",
       " 'img_218.jpeg',\n",
       " 'img_219.jpeg',\n",
       " 'img_22.jpeg',\n",
       " 'img_220.jpeg',\n",
       " 'img_221.jpeg',\n",
       " 'img_222.jpeg',\n",
       " 'img_223.jpeg',\n",
       " 'img_224.jpeg',\n",
       " 'img_225.jpeg',\n",
       " 'img_226.jpeg',\n",
       " 'img_227.jpeg',\n",
       " 'img_228.jpeg',\n",
       " 'img_229.jpeg',\n",
       " 'img_23.jpeg',\n",
       " 'img_230.jpeg',\n",
       " 'img_231.jpeg',\n",
       " 'img_232.jpeg',\n",
       " 'img_233.jpeg',\n",
       " 'img_234.jpeg',\n",
       " 'img_235.jpeg',\n",
       " 'img_236.jpeg',\n",
       " 'img_237.jpeg',\n",
       " 'img_238.jpeg',\n",
       " 'img_239.jpeg',\n",
       " 'img_24.jpeg',\n",
       " 'img_25.jpeg',\n",
       " 'img_26.jpeg',\n",
       " 'img_27.jpeg',\n",
       " 'img_28.jpeg',\n",
       " 'img_29.jpeg',\n",
       " 'img_30.jpeg',\n",
       " 'img_31.jpeg',\n",
       " 'img_310.jpeg',\n",
       " 'img_311.jpeg',\n",
       " 'img_312.jpeg',\n",
       " 'img_313.jpeg',\n",
       " 'img_314.jpeg',\n",
       " 'img_315.jpeg',\n",
       " 'img_316.jpeg',\n",
       " 'img_317.jpeg',\n",
       " 'img_318.jpeg',\n",
       " 'img_319.jpeg',\n",
       " 'img_32.jpeg',\n",
       " 'img_320.jpeg',\n",
       " 'img_321.jpeg',\n",
       " 'img_322.jpeg',\n",
       " 'img_323.jpeg',\n",
       " 'img_324.jpeg',\n",
       " 'img_325.jpeg',\n",
       " 'img_326.jpeg']"
      ]
     },
     "execution_count": 3,
     "metadata": {},
     "output_type": "execute_result"
    }
   ],
   "source": [
    "imagefiles = [i for i in listdir(source) if isfile(join(source,i))] \n",
    "imagefiles"
   ]
  },
  {
   "cell_type": "code",
   "execution_count": 4,
   "metadata": {},
   "outputs": [
    {
     "data": {
      "text/plain": [
       "100"
      ]
     },
     "execution_count": 4,
     "metadata": {},
     "output_type": "execute_result"
    }
   ],
   "source": [
    "len(imagefiles)"
   ]
  },
  {
   "cell_type": "code",
   "execution_count": 5,
   "metadata": {},
   "outputs": [],
   "source": [
    "#converting all coloured image into grey scale image & resize them in 130*130 format\n",
    "for image in imagefiles:\n",
    "    try:\n",
    "        img = cv2.imread(os.path.join(source,image))\n",
    "        gray = cv2.cvtColor(img,cv2.COLOR_BGR2GRAY)\n",
    "        resize=cv2.resize(gray,(130,130))\n",
    "        dest = join(destination,image)\n",
    "        cv2.imwrite(dest,resize)\n",
    "       \n",
    "    except:\n",
    "        print (\"{} is not converted\".format(image))\n"
   ]
  },
  {
   "cell_type": "code",
   "execution_count": 6,
   "metadata": {},
   "outputs": [],
   "source": [
    "#creating few functions for augumentation\n",
    "\n",
    "#1.Rotations\n",
    "def rotate(image):\n",
    "    h,w = image.shape[:2]\n",
    "    degree=random.uniform(-30,30)\n",
    "    scale=random.uniform(0.7,1.2)\n",
    "    mat = cv2.getRotationMatrix2D((h/2,w/2), degree, scale)\n",
    "    return cv2.warpAffine(image,mat,(w,h))\n",
    "\n",
    "#2.Blur_Average\n",
    "def blur(image):\n",
    "    return cv2.blur(image,(3,3))\n",
    "    \n",
    "#3.Contrast Bumping\n",
    "def contrst(image):\n",
    "    mat=np.ones(image.shape,dtype=\"uint8\")*59\n",
    "    reduce=cv2.subtract(image,mat)\n",
    "    return reduce\n",
    "\n",
    "#4.Brightness Bumping\n",
    "def brightness(image):\n",
    "    mat=np.ones(image.shape,dtype=\"uint8\")*72\n",
    "    increase=cv2.add(image,mat)\n",
    "    return increase\n",
    "\n",
    "#5. Sharpening\n",
    "def sharpness(image):\n",
    "    k=np.array([[-1,-1,-1],[-1,-1,10],[-1,-1,-1]])\n",
    "    srp=cv2.filter2D(image,-1,k)\n",
    "    return srp\n",
    "\n",
    "#6.Sobel_X Edge Detection\n",
    "\n",
    "def sobel(image):\n",
    "    sobel_x=cv2.Sobel(image,cv2.CV_64F,1,0,ksize=3)\n",
    "    return sobel_x\n",
    "\n",
    "#7.Flipping_Horizontal\n",
    "def Hflip(image):\n",
    "    flip=cv2.flip(image,1)\n",
    "    return flip\n",
    "\n",
    "#8.Translation\n",
    "def translation(image):\n",
    "    h,w= image.shape[:2]\n",
    "    x=h//5\n",
    "    y=w//5\n",
    "    mat = np.float32([[1, 0, x], [0, 1, y]])\n",
    "    image = cv2.warpAffine(image, mat, (w,h))\n",
    "    return image"
   ]
  },
  {
   "cell_type": "code",
   "execution_count": 7,
   "metadata": {},
   "outputs": [],
   "source": [
    "#creating a dictionary containing the functions generated above\n",
    "transformation_techs={'rotate':rotate,\"blur\":blur,\"contrast\":contrst,\"bright\":brightness,\n",
    "                      \"sharp\":sharpness,\"sob_x\":sobel,\"flip\":Hflip,\"trans\":translation}"
   ]
  },
  {
   "cell_type": "code",
   "execution_count": 8,
   "metadata": {},
   "outputs": [],
   "source": [
    "#CREATING A LIST OF FILE PATH OF OUR IMAGES FOR AUGUMENTATION\n",
    "\n",
    "images = [join(destination, x) for x in listdir(destination) if isfile(join(destination,x))]\n",
    "no_required=500\n",
    "no_generated_img=0\n",
    "while no_generated_img<no_required:\n",
    "    path=random.choice(images)\n",
    "    im2_transformed=cv2.imread(path)\n",
    "    no_of_transformation_selected = random.randint(1, len(transformation_techs))\n",
    "    \n",
    "    num_transformation_done = 0\n",
    "    transformation= None\n",
    "    while num_transformation_done<=no_of_transformation_selected-1:\n",
    "        function = random.choice(list(transformation_techs))\n",
    "        transformation=transformation_techs[function](im2_transformed)\n",
    "        num_transformation_done=num_transformation_done+1\n",
    "#saving the image generated\n",
    "        augmented_file_path = '{}/augmented_image_{}.jpg'.format(destination,no_generated_img)\n",
    "        cv2.imwrite(augmented_file_path, transformation)\n",
    "    no_generated_img +=1"
   ]
  },
  {
   "cell_type": "markdown",
   "metadata": {},
   "source": [
    "**AUGUMENTING SCRAPPED IMAGES OF MEN TROUSER**"
   ]
  },
  {
   "cell_type": "code",
   "execution_count": 9,
   "metadata": {},
   "outputs": [
    {
     "name": "stdout",
     "output_type": "stream",
     "text": [
      "A Folder With Such Name Already Exist, Using It\n"
     ]
    }
   ],
   "source": [
    "source = r'C:\\Users\\saura\\cloths\\trouser' # Source Images Folder\n",
    "destination =r'C:\\Users\\saura\\CNN\\AUGMENTATION\\TROUSER'  #Folder to save augmented images\n",
    "try:\n",
    "    makedirs(destination)\n",
    "    print(\"directory created\".upper())\n",
    "except:\n",
    "    print (\"A Folder With Such Name Already Exist, Using It\")"
   ]
  },
  {
   "cell_type": "code",
   "execution_count": 10,
   "metadata": {
    "scrolled": true
   },
   "outputs": [
    {
     "data": {
      "text/plain": [
       "['img_127.jpeg',\n",
       " 'img_128.jpeg',\n",
       " 'img_129.jpeg',\n",
       " 'img_13.jpeg',\n",
       " 'img_130.jpeg',\n",
       " 'img_131.jpeg',\n",
       " 'img_132.jpeg',\n",
       " 'img_133.jpeg',\n",
       " 'img_134.jpeg',\n",
       " 'img_135.jpeg',\n",
       " 'img_136.jpeg',\n",
       " 'img_137.jpeg',\n",
       " 'img_138.jpeg',\n",
       " 'img_139.jpeg',\n",
       " 'img_14.jpeg',\n",
       " 'img_15.jpeg',\n",
       " 'img_16.jpeg',\n",
       " 'img_17.jpeg',\n",
       " 'img_18.jpeg',\n",
       " 'img_19.jpeg',\n",
       " 'img_20.jpeg',\n",
       " 'img_21.jpeg',\n",
       " 'img_210.jpeg',\n",
       " 'img_211.jpeg',\n",
       " 'img_212.jpeg',\n",
       " 'img_213.jpeg',\n",
       " 'img_214.jpeg',\n",
       " 'img_215.jpeg',\n",
       " 'img_216.jpeg',\n",
       " 'img_217.jpeg',\n",
       " 'img_218.jpeg',\n",
       " 'img_219.jpeg',\n",
       " 'img_22.jpeg',\n",
       " 'img_220.jpeg',\n",
       " 'img_221.jpeg',\n",
       " 'img_222.jpeg',\n",
       " 'img_223.jpeg',\n",
       " 'img_224.jpeg',\n",
       " 'img_225.jpeg',\n",
       " 'img_226.jpeg',\n",
       " 'img_227.jpeg',\n",
       " 'img_228.jpeg',\n",
       " 'img_229.jpeg',\n",
       " 'img_23.jpeg',\n",
       " 'img_230.jpeg',\n",
       " 'img_231.jpeg',\n",
       " 'img_232.jpeg',\n",
       " 'img_233.jpeg',\n",
       " 'img_234.jpeg',\n",
       " 'img_235.jpeg',\n",
       " 'img_236.jpeg',\n",
       " 'img_237.jpeg',\n",
       " 'img_238.jpeg',\n",
       " 'img_239.jpeg',\n",
       " 'img_24.jpeg',\n",
       " 'img_25.jpeg',\n",
       " 'img_26.jpeg',\n",
       " 'img_27.jpeg',\n",
       " 'img_28.jpeg',\n",
       " 'img_29.jpeg',\n",
       " 'img_40.jpeg',\n",
       " 'img_41.jpeg',\n",
       " 'img_410.jpeg',\n",
       " 'img_411.jpeg',\n",
       " 'img_412.jpeg',\n",
       " 'img_413.jpeg',\n",
       " 'img_414.jpeg',\n",
       " 'img_415.jpeg',\n",
       " 'img_416.jpeg',\n",
       " 'img_417.jpeg',\n",
       " 'img_418.jpeg',\n",
       " 'img_419.jpeg',\n",
       " 'img_42.jpeg',\n",
       " 'img_420.jpeg',\n",
       " 'img_421.jpeg',\n",
       " 'img_422.jpeg',\n",
       " 'img_423.jpeg',\n",
       " 'img_424.jpeg',\n",
       " 'img_425.jpeg',\n",
       " 'img_426.jpeg',\n",
       " 'img_427.jpeg',\n",
       " 'img_428.jpeg',\n",
       " 'img_429.jpeg',\n",
       " 'img_43.jpeg',\n",
       " 'img_430.jpeg',\n",
       " 'img_431.jpeg',\n",
       " 'img_432.jpeg',\n",
       " 'img_433.jpeg',\n",
       " 'img_434.jpeg',\n",
       " 'img_435.jpeg',\n",
       " 'img_436.jpeg',\n",
       " 'img_437.jpeg',\n",
       " 'img_438.jpeg',\n",
       " 'img_439.jpeg',\n",
       " 'img_44.jpeg',\n",
       " 'img_45.jpeg',\n",
       " 'img_46.jpeg',\n",
       " 'img_47.jpeg',\n",
       " 'img_48.jpeg',\n",
       " 'img_49.jpeg']"
      ]
     },
     "execution_count": 10,
     "metadata": {},
     "output_type": "execute_result"
    }
   ],
   "source": [
    "imagefiles = [i for i in listdir(source) if isfile(join(source,i))] \n",
    "imagefiles"
   ]
  },
  {
   "cell_type": "code",
   "execution_count": 11,
   "metadata": {},
   "outputs": [
    {
     "name": "stdout",
     "output_type": "stream",
     "text": [
      "Number of file extracted into the list from the source path= 100\n"
     ]
    }
   ],
   "source": [
    "print(\"Number of file extracted into the list from the source path=\",len(imagefiles))"
   ]
  },
  {
   "cell_type": "code",
   "execution_count": 12,
   "metadata": {},
   "outputs": [],
   "source": [
    "#converting all coloured image into grey scale image\n",
    "for image in imagefiles:\n",
    "    try:\n",
    "        img = cv2.imread(os.path.join(source,image))\n",
    "        gray = cv2.cvtColor(img,cv2.COLOR_BGR2GRAY)\n",
    "        resize=cv2.resize(gray,(130,130))\n",
    "        dest = join(destination,image)\n",
    "        cv2.imwrite(dest,resize)\n",
    "    except:\n",
    "        print (\"{} is not converted\".format(image))\n"
   ]
  },
  {
   "cell_type": "code",
   "execution_count": 13,
   "metadata": {},
   "outputs": [],
   "source": [
    "#CREATING A LIST OF FILE PATH OF OUR IMAGES FOR AUGUMENTATION\n",
    "\n",
    "images = [join(destination, x) for x in listdir(destination) if isfile(join(destination,x))]\n",
    "no_required=500\n",
    "no_generated_img=0\n",
    "while no_generated_img<no_required:\n",
    "    path=random.choice(images)\n",
    "    im2_transformed=cv2.imread(path)\n",
    "    no_of_transformation_selected = random.randint(1, len(transformation_techs))\n",
    "    \n",
    "    num_transformation_done = 0\n",
    "    transformation= None\n",
    "    while num_transformation_done<=no_of_transformation_selected-1:\n",
    "        function = random.choice(list(transformation_techs))\n",
    "        transformation=transformation_techs[function](im2_transformed)\n",
    "        num_transformation_done=num_transformation_done+1\n",
    "#saving the image generated\n",
    "        augmented_file_path = '{}/augmented_image_{}.jpg'.format(destination,no_generated_img)\n",
    "        cv2.imwrite(augmented_file_path, transformation)\n",
    "    no_generated_img +=1\n",
    "\n"
   ]
  }
 ],
 "metadata": {
  "kernelspec": {
   "display_name": "Python 3",
   "language": "python",
   "name": "python3"
  },
  "language_info": {
   "codemirror_mode": {
    "name": "ipython",
    "version": 3
   },
   "file_extension": ".py",
   "mimetype": "text/x-python",
   "name": "python",
   "nbconvert_exporter": "python",
   "pygments_lexer": "ipython3",
   "version": "3.7.6"
  }
 },
 "nbformat": 4,
 "nbformat_minor": 4
}
