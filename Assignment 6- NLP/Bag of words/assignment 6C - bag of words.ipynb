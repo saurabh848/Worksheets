{
 "cells": [
  {
   "cell_type": "code",
   "execution_count": 1,
   "metadata": {},
   "outputs": [],
   "source": [
    "import pandas as pd\n",
    "import string\n",
    "from collections import Counter as cnt\n",
    "from nltk.tokenize import word_tokenize\n",
    "from nltk.stem import WordNetLemmatizer\n",
    "from sklearn.feature_extraction.text import CountVectorizer \n",
    "from nltk.corpus import stopwords\n",
    "import matplotlib.pyplot as plt"
   ]
  },
  {
   "cell_type": "code",
   "execution_count": 2,
   "metadata": {},
   "outputs": [],
   "source": [
    "#Opening 1st document and converting to lower case\n",
    "\n",
    "document1 = open(r\"C:\\Users\\SAURABH UPADHYAY\\Rajasthan1.txt\").read()\n",
    "doc1 = [document1.lower()]"
   ]
  },
  {
   "cell_type": "code",
   "execution_count": 3,
   "metadata": {},
   "outputs": [],
   "source": [
    "#Opening 2nd document and converting to lower case\n",
    "\n",
    "document2 = open(r\"C:\\Users\\SAURABH UPADHYAY\\Rajasthan2.txt\",encoding='utf-8').read()\n",
    "doc2 = [document2.lower()]"
   ]
  },
  {
   "cell_type": "code",
   "execution_count": 4,
   "metadata": {},
   "outputs": [],
   "source": [
    "def bow(d1,d2):\n",
    "    stop = stopwords.words('english')\n",
    "    count=CountVectorizer(stop_words=stop)\n",
    "    count.fit(d1)\n",
    "    x=count.transform(d2)\n",
    "    print(\"BOW :\",count.get_feature_names())\n",
    "    print(\"\\n\\nVOCABULARY:\",count.vocabulary_)\n",
    "    print('\\n\\nTEXT LOCATION:',x.toarray())\n",
    "    return pd.DataFrame(x.toarray(),columns=count.get_feature_names())"
   ]
  },
  {
   "cell_type": "code",
   "execution_count": 5,
   "metadata": {},
   "outputs": [
    {
     "name": "stdout",
     "output_type": "stream",
     "text": [
      "BOW : ['19', 'ashok', 'assembly', 'begins', 'bjp', 'brought', 'chief', 'confidence', 'congress', 'country', 'day', 'decided', 'destabilise', 'dissident', 'earlier', 'elected', 'every', 'exuded', 'failed', 'fold', 'forces', 'friday', 'gehlot', 'government', 'governments', 'jayate', 'led', 'legislative', 'message', 'minister', 'mlas', 'motion', 'move', 'opposition', 'party', 'people', 'pilot', 'rajasthan', 'return', 'sachin', 'said', 'satyamev', 'seek', 'session', 'state', 'tactic', 'today', 'trust', 'truth', 'trying', 'tweet', 'tweeted', 'unity', 'unwavering', 'us', 'victory', 'voice', 'vote', 'winning', 'would']\n",
      "\n",
      "\n",
      "VOCABULARY: {'rajasthan': 37, 'chief': 6, 'minister': 29, 'ashok': 1, 'gehlot': 22, 'friday': 21, 'said': 40, 'government': 23, 'winning': 58, 'confidence': 7, 'vote': 57, 'assembly': 2, 'message': 28, 'forces': 20, 'trying': 49, 'destabilise': 12, 'elected': 15, 'governments': 24, 'country': 9, 'congress': 8, 'motion': 31, 'state': 44, 'voice': 56, 'trust': 47, 'every': 16, 'tactic': 45, 'failed': 18, 'tweet': 50, 'people': 35, 'unwavering': 53, 'us': 54, 'unity': 52, 'mlas': 30, 'brought': 5, 'victory': 55, 'earlier': 14, 'day': 10, 'exuded': 17, 'return': 38, '19': 0, 'dissident': 13, 'led': 26, 'sachin': 39, 'pilot': 36, 'party': 34, 'fold': 19, 'legislative': 27, 'session': 43, 'begins': 3, 'today': 46, 'would': 59, 'truth': 48, 'satyamev': 41, 'jayate': 25, 'tweeted': 51, 'seek': 42, 'opposition': 33, 'bjp': 4, 'decided': 11, 'move': 32}\n",
      "\n",
      "\n",
      "TEXT LOCATION: [[0 1 2 0 4 0 0 0 3 0 0 0 0 0 0 0 0 0 1 0 0 0 5 3 0 0 0 0 0 1 3 0 0 1 2 0\n",
      "  3 4 0 1 1 0 0 1 1 0 0 0 0 0 0 0 0 0 0 0 0 0 0 0]]\n"
     ]
    },
    {
     "data": {
      "text/html": [
       "<div>\n",
       "<style scoped>\n",
       "    .dataframe tbody tr th:only-of-type {\n",
       "        vertical-align: middle;\n",
       "    }\n",
       "\n",
       "    .dataframe tbody tr th {\n",
       "        vertical-align: top;\n",
       "    }\n",
       "\n",
       "    .dataframe thead th {\n",
       "        text-align: right;\n",
       "    }\n",
       "</style>\n",
       "<table border=\"1\" class=\"dataframe\">\n",
       "  <thead>\n",
       "    <tr style=\"text-align: right;\">\n",
       "      <th></th>\n",
       "      <th>19</th>\n",
       "      <th>ashok</th>\n",
       "      <th>assembly</th>\n",
       "      <th>begins</th>\n",
       "      <th>bjp</th>\n",
       "      <th>brought</th>\n",
       "      <th>chief</th>\n",
       "      <th>confidence</th>\n",
       "      <th>congress</th>\n",
       "      <th>country</th>\n",
       "      <th>...</th>\n",
       "      <th>tweet</th>\n",
       "      <th>tweeted</th>\n",
       "      <th>unity</th>\n",
       "      <th>unwavering</th>\n",
       "      <th>us</th>\n",
       "      <th>victory</th>\n",
       "      <th>voice</th>\n",
       "      <th>vote</th>\n",
       "      <th>winning</th>\n",
       "      <th>would</th>\n",
       "    </tr>\n",
       "  </thead>\n",
       "  <tbody>\n",
       "    <tr>\n",
       "      <th>0</th>\n",
       "      <td>0</td>\n",
       "      <td>1</td>\n",
       "      <td>2</td>\n",
       "      <td>0</td>\n",
       "      <td>4</td>\n",
       "      <td>0</td>\n",
       "      <td>0</td>\n",
       "      <td>0</td>\n",
       "      <td>3</td>\n",
       "      <td>0</td>\n",
       "      <td>...</td>\n",
       "      <td>0</td>\n",
       "      <td>0</td>\n",
       "      <td>0</td>\n",
       "      <td>0</td>\n",
       "      <td>0</td>\n",
       "      <td>0</td>\n",
       "      <td>0</td>\n",
       "      <td>0</td>\n",
       "      <td>0</td>\n",
       "      <td>0</td>\n",
       "    </tr>\n",
       "  </tbody>\n",
       "</table>\n",
       "<p>1 rows × 60 columns</p>\n",
       "</div>"
      ],
      "text/plain": [
       "   19  ashok  assembly  begins  bjp  brought  chief  confidence  congress  \\\n",
       "0   0      1         2       0    4        0      0           0         3   \n",
       "\n",
       "   country  ...  tweet  tweeted  unity  unwavering  us  victory  voice  vote  \\\n",
       "0        0  ...      0        0      0           0   0        0      0     0   \n",
       "\n",
       "   winning  would  \n",
       "0        0      0  \n",
       "\n",
       "[1 rows x 60 columns]"
      ]
     },
     "execution_count": 5,
     "metadata": {},
     "output_type": "execute_result"
    }
   ],
   "source": [
    "bow(d1=doc1,d2=doc2)\n"
   ]
  },
  {
   "cell_type": "code",
   "execution_count": null,
   "metadata": {},
   "outputs": [],
   "source": []
  }
 ],
 "metadata": {
  "kernelspec": {
   "display_name": "Python 3",
   "language": "python",
   "name": "python3"
  },
  "language_info": {
   "codemirror_mode": {
    "name": "ipython",
    "version": 3
   },
   "file_extension": ".py",
   "mimetype": "text/x-python",
   "name": "python",
   "nbconvert_exporter": "python",
   "pygments_lexer": "ipython3",
   "version": "3.7.6"
  }
 },
 "nbformat": 4,
 "nbformat_minor": 4
}
